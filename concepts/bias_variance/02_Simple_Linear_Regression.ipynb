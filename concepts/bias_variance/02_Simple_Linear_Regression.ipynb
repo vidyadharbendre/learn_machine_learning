{
 "cells": [
  {
   "cell_type": "code",
   "execution_count": 2,
   "id": "35ce6542",
   "metadata": {},
   "outputs": [],
   "source": [
    "import numpy as np\n",
    "import matplotlib.pyplot as plt\n",
    "from sklearn.linear_model import LinearRegression\n",
    "from sklearn.metrics import mean_squared_error"
   ]
  },
  {
   "cell_type": "code",
   "execution_count": 9,
   "id": "19e4e435",
   "metadata": {},
   "outputs": [],
   "source": [
    "# Generate synthetic data: Salary based on years of experience\n",
    "np.random.seed(42)\n",
    "num_records = 30\n",
    "X = np.random.randint(0, 51, size=num_records).reshape(-1, 1)  # Years of experience from 0 to 50 years\n",
    "y_true = np.random.randint(800000, 10000001, size=num_records)  # Salary ranging from 800,000 to 10,000,000"
   ]
  },
  {
   "cell_type": "code",
   "execution_count": 10,
   "id": "871054ec",
   "metadata": {},
   "outputs": [
    {
     "data": {
      "text/plain": [
       "array([[38],\n",
       "       [28],\n",
       "       [14],\n",
       "       [42],\n",
       "       [ 7],\n",
       "       [20],\n",
       "       [38],\n",
       "       [18],\n",
       "       [22],\n",
       "       [10],\n",
       "       [10],\n",
       "       [23],\n",
       "       [35],\n",
       "       [39],\n",
       "       [23],\n",
       "       [ 2],\n",
       "       [21],\n",
       "       [ 1],\n",
       "       [23],\n",
       "       [43],\n",
       "       [29],\n",
       "       [37],\n",
       "       [ 1],\n",
       "       [20],\n",
       "       [32],\n",
       "       [11],\n",
       "       [21],\n",
       "       [43],\n",
       "       [24],\n",
       "       [48]])"
      ]
     },
     "execution_count": 10,
     "metadata": {},
     "output_type": "execute_result"
    }
   ],
   "source": [
    "X"
   ]
  },
  {
   "cell_type": "code",
   "execution_count": 11,
   "id": "d8fce811",
   "metadata": {},
   "outputs": [
    {
     "data": {
      "text/plain": [
       "array([6543066, 6913790, 5521339, 4075709,  884654, 5947581, 2754354,\n",
       "       9042680, 3228388, 9716786, 3463046, 6299720, 7440913, 4216664,\n",
       "       4185659, 4185357, 2265689,  868148, 2625665, 3545683, 4856518,\n",
       "       3469995, 5797895, 7197986, 2670928, 4955299, 7049859, 3105413,\n",
       "       4710197, 6358019])"
      ]
     },
     "execution_count": 11,
     "metadata": {},
     "output_type": "execute_result"
    }
   ],
   "source": [
    "y_true"
   ]
  },
  {
   "cell_type": "code",
   "execution_count": 12,
   "id": "0248db59",
   "metadata": {},
   "outputs": [],
   "source": [
    "# Fit a linear regression model\n",
    "model = LinearRegression()\n",
    "model.fit(X, y_true)\n",
    "y_pred = model.predict(X)"
   ]
  },
  {
   "cell_type": "code",
   "execution_count": 13,
   "id": "f7d80b1b",
   "metadata": {},
   "outputs": [
    {
     "data": {
      "image/png": "[encoded data removed]",
      "text/plain": [
       "<Figure size 640x480 with 1 Axes>"
      ]
     },
     "metadata": {},
     "output_type": "display_data"
    }
   ],
   "source": [
    "# Plot the data and the fitted line\n",
    "plt.scatter(X, y_true, color='blue', label='True Salary')\n",
    "plt.plot(X, y_pred, color='red', label='Predicted Salary')\n",
    "plt.xlabel('Years of Experience')\n",
    "plt.ylabel('Salary')\n",
    "plt.title('Linear Regression')\n",
    "plt.legend()\n",
    "plt.show()"
   ]
  },
  {
   "cell_type": "code",
   "execution_count": 14,
   "id": "ba3c5883",
   "metadata": {},
   "outputs": [
    {
     "name": "stdout",
     "output_type": "stream",
     "text": [
      "Mean Squared Error (MSE): 4591027436070.952\n"
     ]
    }
   ],
   "source": [
    "# Calculate the Mean Squared Error (MSE)\n",
    "mse = mean_squared_error(y_true, y_pred)\n",
    "print(f'Mean Squared Error (MSE): {mse}')"
   ]
  },
  {
   "cell_type": "markdown",
   "id": "9f589466",
   "metadata": {},
   "source": [
    "## Explanation:\n",
    "\n",
    "Data Generation:\n",
    "\n",
    "np.random.randint(0, 51, size=num_records).reshape(-1, 1): Generates an array X with num_records (30 in this case) random integers between 0 and 50 inclusive, reshaped to a column vector.\n",
    "np.random.randint(800000, 10000001, size=num_records): Generates an array y_true with num_records random integers between 800,000 and 10,000,000 inclusive.\n",
    "Model Fitting and Visualization:\n",
    "\n",
    "We fit a LinearRegression model to predict salaries (y_true) based on years of experience (X).\n",
    "The model's predictions (y_pred) are plotted against the true salaries (y_true) to visualize how well the model fits the data.\n",
    "Error Calculation:\n",
    "\n",
    "The Mean Squared Error (MSE) is calculated to quantify the model's accuracy in predicting salaries based on the given years of experience.\n",
    "This example demonstrates how you can generate synthetic data for a simple linear regression model and analyze the bias and variance trade-offs as discussed earlier. Adjusting the ranges and number of records (num_records) allows you to explore different scenarios and understand how varying data characteristics affect model performance."
   ]
  },
  {
   "cell_type": "code",
   "execution_count": null,
   "id": "949a06cc",
   "metadata": {},
   "outputs": [],
   "source": []
  }
 ],
 "metadata": {
  "kernelspec": {
   "display_name": "Python 3 (ipykernel)",
   "language": "python",
   "name": "python3"
  },
  "language_info": {
   "codemirror_mode": {
    "name": "ipython",
    "version": 3
   },
   "file_extension": ".py",
   "mimetype": "text/x-python",
   "name": "python",
   "nbconvert_exporter": "python",
   "pygments_lexer": "ipython3",
   "version": "3.9.16"
  }
 },
 "nbformat": 4,
 "nbformat_minor": 5
}
