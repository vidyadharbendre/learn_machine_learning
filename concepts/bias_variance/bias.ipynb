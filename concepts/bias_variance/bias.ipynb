{
 "cells": [
  {
   "cell_type": "markdown",
   "id": "bfe489d0",
   "metadata": {},
   "source": [
    "Bias measures how far off the predictions (from a model) are from the true values (actual salaries). It gives us an idea of how much the average prediction differs from the actual value."
   ]
  },
  {
   "cell_type": "code",
   "execution_count": null,
   "id": "1c970c33",
   "metadata": {},
   "outputs": [],
   "source": []
  }
 ],
 "metadata": {
  "kernelspec": {
   "display_name": "Python 3 (ipykernel)",
   "language": "python",
   "name": "python3"
  },
  "language_info": {
   "codemirror_mode": {
    "name": "ipython",
    "version": 3
   },
   "file_extension": ".py",
   "mimetype": "text/x-python",
   "name": "python",
   "nbconvert_exporter": "python",
   "pygments_lexer": "ipython3",
   "version": "3.9.16"
  }
 },
 "nbformat": 4,
 "nbformat_minor": 5
}
