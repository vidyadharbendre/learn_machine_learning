{
 "cells": [
  {
   "cell_type": "markdown",
   "id": "4e793cf9",
   "metadata": {},
   "source": [
    "Variance measures how much the predictions for a given point vary between different realizations of the model. In other words, it captures how much the predictions fluctuate if the model were trained on different datasets.\n",
    "\n",
    "Calculate the Variance of Predictions:\n",
    "\n",
    "Suppose we have two models, Model A and Model B, trained on different subsets of the data, and they make the following predictions:"
   ]
  },
  {
   "cell_type": "code",
   "execution_count": null,
   "id": "45535740",
   "metadata": {},
   "outputs": [],
   "source": []
  }
 ],
 "metadata": {
  "kernelspec": {
   "display_name": "Python 3 (ipykernel)",
   "language": "python",
   "name": "python3"
  },
  "language_info": {
   "codemirror_mode": {
    "name": "ipython",
    "version": 3
   },
   "file_extension": ".py",
   "mimetype": "text/x-python",
   "name": "python",
   "nbconvert_exporter": "python",
   "pygments_lexer": "ipython3",
   "version": "3.9.16"
  }
 },
 "nbformat": 4,
 "nbformat_minor": 5
}
