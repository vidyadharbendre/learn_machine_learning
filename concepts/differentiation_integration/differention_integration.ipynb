{
 "cells": [
  {
   "cell_type": "markdown",
   "id": "661a3052",
   "metadata": {},
   "source": [
    "<table align=\"left\" width=100%>\n",
    "    <tr>\n",
    "        <td width=\"12%\">\n",
    "            <img src=\"../../images/RA_Logo.png\">\n",
    "        </td>\n",
    "        <td>\n",
    "            <div align=\"center\">\n",
    "                <font color=\"#21618C\" size=8px>\n",
    "                  <b> Differentiation and Integration </b>\n",
    "                </font>\n",
    "            </div>\n",
    "        </td>\n",
    "    </tr>\n",
    "</table>"
   ]
  },
  {
   "cell_type": "markdown",
   "id": "6e9b65dd",
   "metadata": {},
   "source": [
    "<table align=\"left\">\n",
    "  <td>\n",
    "    <a href=\"https://colab.research.google.com/github/vidyadharbendre/learn_machine_learning/blob/main/concepts/concepts/differentiation_integration/differention_integration.ipynb\" target=\"_parent\"><img src=\"https://colab.research.google.com/assets/colab-badge.svg\" alt=\"Open In Colab\"/></a>\n",
    "  </td>\n",
    "  <td>\n",
    "    <a target=\"_blank\" href=\"https://kaggle.com/kernels/welcome?src=https://github.com/vidyadharbendre/learn_machine_learning/blob/main/concepts/concepts/differentiation_integration/differention_integration.ipynb\"><img src=\"https://kaggle.com/static/images/open-in-kaggle.svg\" /></a>\n",
    "  </td>\n",
    "</table>"
   ]
  },
  {
   "cell_type": "markdown",
   "id": "33098f43",
   "metadata": {},
   "source": [
    "<table align=\"left\">\n",
    "  <td>\n",
    "    <a href=\"https://colab.research.google.com/github/vidyadharbendre/learn_machine_learning/blob/main/notebooks/concepts/differentiation_integration/differention_integration.ipynb\" target=\"_parent\"><img src=\"https://colab.research.google.com/assets/colab-badge.svg\" alt=\"Open In Colab\"/></a>\n",
    "  </td>\n",
    "  <td>\n",
    "    <a target=\"_blank\" href=\"https://kaggle.com/kernels/welcome?src=https://github.com/vidyadharbendre/learn_machine_learning/blob/main/notebooks/concepts/differentiation_integration/differention_integration.ipynb\"><img src=\"https://kaggle.com/static/images/open-in-kaggle.svg\" /></a>\n",
    "  </td>\n",
    "</table>"
   ]
  },
  {
   "cell_type": "markdown",
   "id": "265f7cd7",
   "metadata": {},
   "source": [
    "when using the sympy library, sym.symbols('z') creates a symbolic variable z. Here’s what this means in detail:\n",
    "\n",
    "Importing sympy and Creating Symbolic Variables:\n",
    "\n",
    "sympy is a Python library for symbolic mathematics.\n",
    "sym is often used as an alias for sympy for brevity.\n",
    "Creating a Symbolic Variable:\n",
    "\n",
    "sym.symbols('z') is a function call that creates a symbolic variable named z.\n",
    "Symbolic variables are used in symbolic computations where the variable z represents an unknown or a placeholder for mathematical expressions rather than a specific numerical value.\n",
    "Usage:\n",
    "\n",
    "Once you define z as a symbolic variable, you can perform symbolic computations with it. For example, you can define equations involving z, differentiate or integrate expressions with respect to z, solve equations involving z, and so on.\n",
    "Example:"
   ]
  },
  {
   "cell_type": "code",
   "execution_count": 1,
   "id": "2787205d",
   "metadata": {},
   "outputs": [
    {
     "name": "stdout",
     "output_type": "stream",
     "text": [
      "Expression: z**2 + 3*z - 1\n",
      "Derivative: 2*z + 3\n",
      "Integral: z**3/3 + 3*z**2/2 - z\n"
     ]
    }
   ],
   "source": [
    "import sympy as sym\n",
    "\n",
    "# Create a symbolic variable z\n",
    "z = sym.symbols('z')\n",
    "\n",
    "# Use z in symbolic computations\n",
    "expression = z**2 + 3*z - 1\n",
    "derivative = sym.diff(expression, z)\n",
    "integral = sym.integrate(expression, z)\n",
    "\n",
    "print(\"Expression:\", expression)\n",
    "print(\"Derivative:\", derivative)\n",
    "print(\"Integral:\", integral)"
   ]
  },
  {
   "cell_type": "markdown",
   "id": "8edd9467",
   "metadata": {},
   "source": [
    "In this example:\n",
    "\n",
    "z is defined as a symbolic variable using sym.symbols('z').\n",
    "expression is a symbolic expression involving z.\n",
    "derivative is the derivative of expression with respect to z.\n",
    "integral is the integral of expression with respect to z.\n",
    "By using symbolic variables like z, you can perform symbolic computations which are essential in many areas of mathematics and scientific computing where exact representations and manipulation of mathematical expressions are required."
   ]
  },
  {
   "cell_type": "code",
   "execution_count": null,
   "id": "3d86bb68",
   "metadata": {},
   "outputs": [],
   "source": []
  },
  {
   "cell_type": "code",
   "execution_count": 3,
   "id": "4de52bec",
   "metadata": {},
   "outputs": [
    {
     "name": "stdout",
     "output_type": "stream",
     "text": [
      "Standard Normal PDF expressed with the given formula:\n",
      "sqrt(2)*exp(-x**2/2)/(2*sqrt(pi))\n",
      "PDF at x = 0: 0.398942280401433\n",
      "PDF at x = 1: 0.241970724519143\n"
     ]
    }
   ],
   "source": [
    "import sympy as sym\n",
    "\n",
    "# Define symbolic variable\n",
    "x = sym.symbols('x')\n",
    "\n",
    "# Define the standard normal PDF using the given formula\n",
    "standard_normal_pdf = 1 / sym.sqrt(2 * sym.pi) * sym.exp(-x**2 / 2)\n",
    "\n",
    "# Print the standard normal PDF\n",
    "print(\"Standard Normal PDF expressed with the given formula:\")\n",
    "print(standard_normal_pdf)\n",
    "\n",
    "# Evaluate the PDF at specific points, for example at x = 0 and x = 1\n",
    "print(\"PDF at x = 0:\", standard_normal_pdf.subs(x, 0).evalf())\n",
    "print(\"PDF at x = 1:\", standard_normal_pdf.subs(x, 1).evalf())\n"
   ]
  },
  {
   "cell_type": "code",
   "execution_count": null,
   "id": "8ddcb9d5",
   "metadata": {},
   "outputs": [],
   "source": []
  },
  {
   "cell_type": "markdown",
   "id": "4a546cf9",
   "metadata": {},
   "source": [
    "## Understanding the Problem\n",
    "\n",
    "When you use sym.plot from sympy to plot a symbolic expression, it internally uses its own plotting backend. However, sympy.plot sometimes does not seamlessly integrate with matplotlib.pyplot.show() when called subsequently in the same code block. This can lead to unexpected behavior where multiple plot windows appear.\n",
    "\n",
    "## Solution\n",
    "\n",
    "To ensure that only one plot window appears with the correct plot, you should explicitly manage the plotting using sympy.plot or matplotlib.pyplot exclusively. Here’s how you can modify your code to only use matplotlib.pyplot for plotting:"
   ]
  },
  {
   "cell_type": "code",
   "execution_count": 11,
   "id": "388d2597",
   "metadata": {},
   "outputs": [],
   "source": [
    "import sympy as sym\n",
    "import matplotlib.pyplot as plt\n",
    "import numpy as np"
   ]
  },
  {
   "cell_type": "code",
   "execution_count": 12,
   "id": "786e221c",
   "metadata": {},
   "outputs": [],
   "source": [
    "# Define symbolic variable\n",
    "x = sym.symbols('x')"
   ]
  },
  {
   "cell_type": "code",
   "execution_count": 13,
   "id": "1afff324",
   "metadata": {},
   "outputs": [],
   "source": [
    "# Define the standard normal PD\n",
    "standard_normal_pdf = 1 / sym.sqrt(2 * sym.pi) * sym.exp(-x**2 / 2)"
   ]
  },
  {
   "cell_type": "code",
   "execution_count": 14,
   "id": "d6672ee1",
   "metadata": {},
   "outputs": [],
   "source": [
    "# Convert sympy expression to a numpy-compatible function\n",
    "pdf_func = sym.lambdify(x, standard_normal_pdf, modules=['numpy'])"
   ]
  },
  {
   "cell_type": "code",
   "execution_count": 15,
   "id": "7b512be5",
   "metadata": {},
   "outputs": [],
   "source": [
    "# Generate x values for plotting\n",
    "x_vals = np.linspace(-3, 3, 100)\n",
    "y_vals = pdf_func(x_vals)"
   ]
  },
  {
   "cell_type": "code",
   "execution_count": 16,
   "id": "d0ebbdf7",
   "metadata": {},
   "outputs": [
    {
     "data": {
      "image/png": "[encoded data removed]",
      "text/plain": [
       "<Figure size 640x480 with 1 Axes>"
      ]
     },
     "metadata": {},
     "output_type": "display_data"
    }
   ],
   "source": [
    "# Plotting the standard normal PDF using matplotlib\n",
    "plt.figure()\n",
    "plt.plot(x_vals, y_vals, label='Standard Normal PDF')\n",
    "plt.title('Standard Normal Distribution PDF')\n",
    "plt.xlabel('x')\n",
    "plt.ylabel('PDF')\n",
    "plt.grid(True)\n",
    "plt.legend()\n",
    "plt.show()"
   ]
  },
  {
   "cell_type": "markdown",
   "id": "1075c532",
   "metadata": {},
   "source": [
    "## Explanation\n",
    "sym.lambdify: Converts the symbolic expression standard_normal_pdf into a callable function (pdf_func) that can be evaluated using numpy arrays (x_vals).\n",
    "\n",
    "np.linspace: Generates evenly spaced values within the range (-3, 3) to plot the PDF.\n",
    "\n",
    "Plotting with matplotlib.pyplot: Uses plt.plot to plot the PDF curve, with plt.title, plt.xlabel, plt.ylabel, plt.grid, and plt.legend for labeling and styling.\n",
    "\n",
    "## Benefits\n",
    "This approach ensures that the plot is generated using matplotlib exclusively, avoiding any conflicts or multiple plot windows that might arise from mixing sympy.plot and matplotlib.pyplot.show().\n",
    "\n",
    "By following this approach, you should now be able to plot the standard normal distribution PDF correctly and manage its appearance using matplotlib functionalities effectively."
   ]
  },
  {
   "cell_type": "code",
   "execution_count": null,
   "id": "0dcd407d",
   "metadata": {},
   "outputs": [],
   "source": []
  }
 ],
 "metadata": {
  "kernelspec": {
   "display_name": "Python 3 (ipykernel)",
   "language": "python",
   "name": "python3"
  },
  "language_info": {
   "codemirror_mode": {
    "name": "ipython",
    "version": 3
   },
   "file_extension": ".py",
   "mimetype": "text/x-python",
   "name": "python",
   "nbconvert_exporter": "python",
   "pygments_lexer": "ipython3",
   "version": "3.9.16"
  }
 },
 "nbformat": 4,
 "nbformat_minor": 5
}
