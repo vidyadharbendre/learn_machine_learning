{
 "cells": [
  {
   "cell_type": "code",
   "execution_count": null,
   "id": "59d4de4a",
   "metadata": {},
   "outputs": [],
   "source": []
  },
  {
   "cell_type": "code",
   "execution_count": null,
   "id": "f10ad735",
   "metadata": {},
   "outputs": [],
   "source": []
  },
  {
   "cell_type": "markdown",
   "id": "ce2ea14f",
   "metadata": {},
   "source": [
    "## Introduction to Kurtosis\n",
    "Kurtosis is a measure of the \"tailedness\" of the probability distribution of a real-valued random variable. It indicates the extent to which the distribution's tails differ from the tails of a normal distribution.\n",
    "\n",
    "Positive Kurtosis (Leptokurtic): Indicates heavy tails and a sharp peak. Data have more outliers.\n",
    "\n",
    "Negative Kurtosis (Platykurtic): Indicates light tails and a flatter peak. Data have fewer outliers.\n",
    "\n",
    "Zero Kurtosis (Mesokurtic): Indicates tails similar to a normal distribution.\n",
    "\n",
    "## Why Use Kurtosis?\n",
    "Distribution Shape: Provides insight into the shape of the data distribution, particularly the tails.\n",
    "Outlier Detection: Helps in identifying the presence and influence of outliers."
   ]
  },
  {
   "cell_type": "code",
   "execution_count": null,
   "id": "f2daa13f",
   "metadata": {},
   "outputs": [],
   "source": []
  }
 ],
 "metadata": {
  "kernelspec": {
   "display_name": "Python 3 (ipykernel)",
   "language": "python",
   "name": "python3"
  },
  "language_info": {
   "codemirror_mode": {
    "name": "ipython",
    "version": 3
   },
   "file_extension": ".py",
   "mimetype": "text/x-python",
   "name": "python",
   "nbconvert_exporter": "python",
   "pygments_lexer": "ipython3",
   "version": "3.9.16"
  }
 },
 "nbformat": 4,
 "nbformat_minor": 5
}
