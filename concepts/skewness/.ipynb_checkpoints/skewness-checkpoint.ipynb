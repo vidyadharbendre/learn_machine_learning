{
 "cells": [
  {
   "cell_type": "markdown",
   "id": "4aa2b5e2",
   "metadata": {},
   "source": [
    "<table align=\"left\" width=100%>\n",
    "    <tr>\n",
    "        <td width=\"12%\">\n",
    "            <img src=\"../../images/RA_Logo.png\">\n",
    "        </td>\n",
    "        <td>\n",
    "            <div align=\"center\">\n",
    "                <font color=\"#21618C\" size=8px>\n",
    "                  <b> Skewness </b>\n",
    "                </font>\n",
    "            </div>\n",
    "        </td>\n",
    "    </tr>\n",
    "</table>"
   ]
  },
  {
   "cell_type": "code",
   "execution_count": null,
   "id": "7fed2679",
   "metadata": {},
   "outputs": [],
   "source": []
  },
  {
   "cell_type": "markdown",
   "id": "2045da50",
   "metadata": {},
   "source": [
    "## Introduction to Skewness\n",
    "Skewness is a measure of the asymmetry of the probability distribution of a real-valued random variable about its mean. It describes the degree to which a dataset differs from a normal distribution.\n",
    "\n",
    "Positive Skewness: Indicates that the tail on the right side of the distribution is longer or fatter than the left side.\n",
    "Negative Skewness: Indicates that the tail on the left side of the distribution is longer or fatter than the right side.\n",
    "Zero Skewness: Indicates a symmetric distribution.\n",
    "\n",
    "## Why Use Skewness?\n",
    "Distribution Shape: It provides insight into the shape of the data distribution.\n",
    "Data Analysis: Helps in understanding whether the data is normally distributed.\n",
    "Modeling: Certain statistical models assume normality, and skewness helps check this assumption."
   ]
  },
  {
   "cell_type": "code",
   "execution_count": null,
   "id": "0c45ae14",
   "metadata": {},
   "outputs": [],
   "source": []
  }
 ],
 "metadata": {
  "kernelspec": {
   "display_name": "Python 3 (ipykernel)",
   "language": "python",
   "name": "python3"
  },
  "language_info": {
   "codemirror_mode": {
    "name": "ipython",
    "version": 3
   },
   "file_extension": ".py",
   "mimetype": "text/x-python",
   "name": "python",
   "nbconvert_exporter": "python",
   "pygments_lexer": "ipython3",
   "version": "3.9.16"
  }
 },
 "nbformat": 4,
 "nbformat_minor": 5
}
