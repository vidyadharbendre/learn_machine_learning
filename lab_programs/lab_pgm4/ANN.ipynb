{
 "cells": [
  {
   "cell_type": "code",
   "execution_count": 1,
   "id": "9e0c8bf8",
   "metadata": {},
   "outputs": [
    {
     "name": "stdout",
     "output_type": "stream",
     "text": [
      "Predictions:\n",
      "Input: [0 0] -> Output: [[0.0107936]]\n",
      "Input: [0 1] -> Output: [[0.98770921]]\n",
      "Input: [1 0] -> Output: [[0.98770808]]\n",
      "Input: [1 1] -> Output: [[0.01158044]]\n"
     ]
    }
   ],
   "source": [
    "import numpy as np\n",
    "\n",
    "def sigmoid(x):\n",
    "    \"\"\"Sigmoid activation function\"\"\"\n",
    "    return 1 / (1 + np.exp(-x))\n",
    "\n",
    "def sigmoid_derivative(x):\n",
    "    \"\"\"Derivative of the sigmoid function\"\"\"\n",
    "    return x * (1 - x)\n",
    "\n",
    "class NeuralNetwork:\n",
    "    def __init__(self, input_size, hidden_size, output_size):\n",
    "        # Initialize weights and biases\n",
    "        self.input_size = input_size\n",
    "        self.hidden_size = hidden_size\n",
    "        self.output_size = output_size\n",
    "\n",
    "        self.weights_input_hidden = np.random.uniform(-1, 1, (self.input_size, self.hidden_size))\n",
    "        self.weights_hidden_output = np.random.uniform(-1, 1, (self.hidden_size, self.output_size))\n",
    "\n",
    "        self.bias_hidden = np.random.uniform(-1, 1, (1, self.hidden_size))\n",
    "        self.bias_output = np.random.uniform(-1, 1, (1, self.output_size))\n",
    "\n",
    "    def feedforward(self, X):\n",
    "        \"\"\"Perform the feedforward pass\"\"\"\n",
    "        self.hidden_layer_input = np.dot(X, self.weights_input_hidden) + self.bias_hidden\n",
    "        self.hidden_layer_output = sigmoid(self.hidden_layer_input)\n",
    "\n",
    "        self.output_layer_input = np.dot(self.hidden_layer_output, self.weights_hidden_output) + self.bias_output\n",
    "        self.output_layer_output = sigmoid(self.output_layer_input)\n",
    "        return self.output_layer_output\n",
    "\n",
    "    def backpropagation(self, X, y, output):\n",
    "        \"\"\"Perform the backpropagation pass\"\"\"\n",
    "        self.output_error = y - output\n",
    "        self.output_delta = self.output_error * sigmoid_derivative(output)\n",
    "\n",
    "        self.hidden_error = self.output_delta.dot(self.weights_hidden_output.T)\n",
    "        self.hidden_delta = self.hidden_error * sigmoid_derivative(self.hidden_layer_output)\n",
    "\n",
    "        self.weights_hidden_output += self.hidden_layer_output.T.dot(self.output_delta)\n",
    "        self.weights_input_hidden += X.T.dot(self.hidden_delta)\n",
    "        self.bias_output += np.sum(self.output_delta, axis=0, keepdims=True)\n",
    "        self.bias_hidden += np.sum(self.hidden_delta, axis=0, keepdims=True)\n",
    "\n",
    "    def train(self, X, y, epochs):\n",
    "        \"\"\"Train the neural network\"\"\"\n",
    "        for _ in range(epochs):\n",
    "            output = self.feedforward(X)\n",
    "            self.backpropagation(X, y, output)\n",
    "\n",
    "    def predict(self, X):\n",
    "        \"\"\"Make predictions using the trained neural network\"\"\"\n",
    "        return self.feedforward(X)\n",
    "\n",
    "if __name__ == \"__main__\":\n",
    "    # Example dataset: XOR problem\n",
    "    X = np.array([[0, 0], [0, 1], [1, 0], [1, 1]])\n",
    "    y = np.array([[0], [1], [1], [0]])\n",
    "\n",
    "    nn = NeuralNetwork(input_size=2, hidden_size=2, output_size=1)\n",
    "    nn.train(X, y, epochs=10000)\n",
    "\n",
    "    print(\"Predictions:\")\n",
    "    for sample in X:\n",
    "        print(f\"Input: {sample} -> Output: {nn.predict(sample)}\")\n"
   ]
  },
  {
   "cell_type": "code",
   "execution_count": null,
   "id": "74fd4b04",
   "metadata": {},
   "outputs": [],
   "source": []
  }
 ],
 "metadata": {
  "kernelspec": {
   "display_name": "Python 3 (ipykernel)",
   "language": "python",
   "name": "python3"
  },
  "language_info": {
   "codemirror_mode": {
    "name": "ipython",
    "version": 3
   },
   "file_extension": ".py",
   "mimetype": "text/x-python",
   "name": "python",
   "nbconvert_exporter": "python",
   "pygments_lexer": "ipython3",
   "version": "3.9.16"
  }
 },
 "nbformat": 4,
 "nbformat_minor": 5
}
