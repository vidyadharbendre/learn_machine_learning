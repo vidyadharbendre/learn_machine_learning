{
 "cells": [
  {
   "cell_type": "markdown",
   "metadata": {},
   "source": [
    "Aim: Illustrate and Demonstrate the working model and principle of Find-S algorithm. Program: For a given set of training data examples stored in a .CSV file, implement and demonstrate the Find-S algorithm to output a description of the set of all hypotheses consistent with the training examples"
   ]
  },
  {
   "cell_type": "code",
   "execution_count": null,
   "metadata": {},
   "outputs": [],
   "source": [
    "import pandas as pd\n",
    "import numpy as np"
   ]
  },
  {
   "cell_type": "code",
   "execution_count": 16,
   "metadata": {},
   "outputs": [
    {
     "name": "stdout",
     "output_type": "stream",
     "text": [
      "       0      1        2        3      4        5     6\n",
      "0  Sunny   Warm   Normal   Strong   Warm     Same   Yes\n",
      "1  Sunny   Warm     High   Strong   Warm     Same   Yes\n",
      "2  Rainy   Cold     High   Strong   Warm   Change    No\n",
      "3  Sunny   Warm     High   Strong   Cool   Change   Yes\n"
     ]
    }
   ],
   "source": [
    "# Read CSV file into DataFrame\n",
    "data = pd.read_csv('training_data.csv', header=None) \n",
    "print(data.head())  # Use parentheses to actually call the method"
   ]
  },
  {
   "cell_type": "code",
   "execution_count": 17,
   "metadata": {},
   "outputs": [],
   "source": [
    "# Extract attributes and target\n",
    "attribute = np.array(data)[:, :-1] \n",
    "target = np.array(data)[:, -1]"
   ]
  },
  {
   "cell_type": "code",
   "execution_count": 18,
   "metadata": {},
   "outputs": [
    {
     "name": "stdout",
     "output_type": "stream",
     "text": [
      "[['Sunny' ' Warm' ' Normal' ' Strong' ' Warm' ' Same']\n",
      " ['Sunny' ' Warm' ' High' ' Strong' ' Warm' ' Same']\n",
      " ['Rainy' ' Cold' ' High' ' Strong' ' Warm' ' Change']\n",
      " ['Sunny' ' Warm' ' High' ' Strong' ' Cool' ' Change']]\n"
     ]
    }
   ],
   "source": [
    "print(attribute)"
   ]
  },
  {
   "cell_type": "code",
   "execution_count": 19,
   "metadata": {},
   "outputs": [
    {
     "name": "stdout",
     "output_type": "stream",
     "text": [
      "[' Yes' ' Yes' ' No' ' Yes']\n"
     ]
    }
   ],
   "source": [
    "print(target)"
   ]
  },
  {
   "cell_type": "code",
   "execution_count": 20,
   "metadata": {},
   "outputs": [
    {
     "name": "stdout",
     "output_type": "stream",
     "text": [
      "['Sunny' ' Warm' '?' ' Strong' '?' '?']\n"
     ]
    }
   ],
   "source": [
    "def train(att, tar):\n",
    "    \"\"\"Find the most specific hypothesis using the Find-S algorithm.\"\"\"\n",
    "    specific_h = None\n",
    "\n",
    "    # Iterate over the target to find the first positive example\n",
    "    for i, val in enumerate(tar): \n",
    "        if val.strip().lower() == 'yes':  # Ensure case-insensitive comparison\n",
    "            specific_h = att[i].copy()\n",
    "            break\n",
    "\n",
    "    # Check if any positive example was found\n",
    "    if specific_h is None:\n",
    "        raise ValueError(\"No positive examples found in the target data.\")\n",
    "    \n",
    "    # Iterate over the attributes and target to generalize the hypothesis\n",
    "    for i, val in enumerate(att):\n",
    "        if tar[i].strip().lower() == 'yes':\n",
    "            for x in range(len(specific_h)):\n",
    "                if val[x] != specific_h[x]: \n",
    "                    specific_h[x] = '?'\n",
    "    \n",
    "    return specific_h \n",
    "\n",
    "# Print the final hypothesis\n",
    "print(train(attribute, target))"
   ]
  }
 ],
 "metadata": {
  "kernelspec": {
   "display_name": "base",
   "language": "python",
   "name": "python3"
  },
  "language_info": {
   "codemirror_mode": {
    "name": "ipython",
    "version": 3
   },
   "file_extension": ".py",
   "mimetype": "text/x-python",
   "name": "python",
   "nbconvert_exporter": "python",
   "pygments_lexer": "ipython3",
   "version": "3.9.16"
  }
 },
 "nbformat": 4,
 "nbformat_minor": 2
}
