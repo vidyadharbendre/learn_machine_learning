{
 "cells": [
  {
   "cell_type": "code",
   "execution_count": 5,
   "metadata": {},
   "outputs": [],
   "source": [
    "import pandas as pd"
   ]
  },
  {
   "cell_type": "code",
   "execution_count": 22,
   "metadata": {},
   "outputs": [],
   "source": [
    "def read_csv(file_path):\n",
    "    df = pd.read_csv(file_path, header=None)\n",
    "    return df"
   ]
  },
  {
   "cell_type": "code",
   "execution_count": 29,
   "metadata": {},
   "outputs": [],
   "source": [
    "def find_s_algorithm(training_data):\n",
    "    # Extract features and target\n",
    "    features = training_data.iloc[:, :-1]\n",
    "    target = training_data.iloc[:, -1]\n",
    "\n",
    "    # Initialize the most specific hypothesis\n",
    "    hypothesis = ['0'] * len(features.columns)\n",
    "    #print(hypothesis)\n",
    "    # Iterate over the training examples\n",
    "    for i in range(len(features)):\n",
    "        if target[i] == 'Yes':\n",
    "            print(target[i])  # We only update the hypothesis for positive examples\n",
    "            for j in range(len(features.columns)):\n",
    "                if hypothesis[j] == '0':\n",
    "                    hypothesis[j] = features.iloc[i, j]\n",
    "                elif hypothesis[j] != features.iloc[i, j]:\n",
    "                    hypothesis[j] = '?'\n",
    "        print(hypothesis)\n",
    "    return hypothesis\n",
    "\n",
    "\n"
   ]
  },
  {
   "cell_type": "code",
   "execution_count": 32,
   "metadata": {},
   "outputs": [
    {
     "name": "stdout",
     "output_type": "stream",
     "text": [
      "Initial Hypothesis: ['0', '0', '0', '0', '0', '0']\n",
      "Processing Example 0: ['Sunny' ' Warm' ' Normal' ' Strong' ' Warm' ' Same'], Target:  Yes\n",
      "Ignored Example (Negative)\n",
      "Processing Example 1: ['Sunny' ' Warm' ' High' ' Strong' ' Warm' ' Same'], Target:  Yes\n",
      "Ignored Example (Negative)\n",
      "Processing Example 2: ['Rainy' ' Cold' ' High' ' Strong' ' Warm' ' Change'], Target:  No\n",
      "Ignored Example (Negative)\n",
      "Processing Example 3: ['Sunny' ' Warm' ' High' ' Strong' ' Cool' ' Change'], Target:  Yes\n",
      "Ignored Example (Negative)\n",
      "Final Hypothesis: ['0', '0', '0', '0', '0', '0']\n"
     ]
    }
   ],
   "source": [
    "import pandas as pd\n",
    "\n",
    "def read_csv(file_path):\n",
    "    \"\"\"Read CSV file into a DataFrame.\"\"\"\n",
    "    return pd.read_csv(file_path, header=None)\n",
    "\n",
    "def find_s_algorithm(training_data):\n",
    "    \"\"\"Apply the Find-S algorithm to identify the most specific hypothesis.\"\"\"\n",
    "    # Extract features and target\n",
    "    features = training_data.iloc[:, :-1]  # All columns except the last one\n",
    "    target = training_data.iloc[:, -1]  # Last column, which is the target label\n",
    "\n",
    "    # Initialize the most specific hypothesis\n",
    "    hypothesis = ['0'] * len(features.columns)\n",
    "    print(\"Initial Hypothesis:\", hypothesis)\n",
    "\n",
    "    # Iterate over the training examples\n",
    "    for i in range(len(features)):\n",
    "        print(f\"Processing Example {i}: {features.iloc[i].values}, Target: {target[i]}\")\n",
    "        if target[i] == 'Yes':  # Update hypothesis only for positive examples\n",
    "            for j in range(len(features.columns)):\n",
    "                if hypothesis[j] == '0':\n",
    "                    hypothesis[j] = features.iloc[i, j]  # Set specific value for first time\n",
    "                elif hypothesis[j] != features.iloc[i, j]:\n",
    "                    hypothesis[j] = '?'  # Generalize attribute if it differs\n",
    "            print(\"Updated Hypothesis:\", hypothesis)\n",
    "        else:\n",
    "            print(\"Ignored Example (Negative)\")\n",
    "\n",
    "    return hypothesis\n",
    "\n",
    "def main():\n",
    "    \"\"\"Main function to read data and apply Find-S algorithm.\"\"\"\n",
    "    file_path = 'training_data.csv'  # Define the path to your CSV file\n",
    "    training_data = read_csv(file_path)\n",
    "    hypothesis = find_s_algorithm(training_data)\n",
    "    print(\"Final Hypothesis:\", hypothesis)\n",
    "\n",
    "if __name__ == \"__main__\":\n",
    "    main()\n"
   ]
  },
  {
   "cell_type": "code",
   "execution_count": 30,
   "metadata": {},
   "outputs": [
    {
     "name": "stdout",
     "output_type": "stream",
     "text": [
      "['0', '0', '0', '0', '0', '0']\n",
      "['0', '0', '0', '0', '0', '0']\n",
      "['0', '0', '0', '0', '0', '0']\n",
      "['0', '0', '0', '0', '0', '0']\n",
      "The final hypothesis is: ['0', '0', '0', '0', '0', '0']\n"
     ]
    }
   ],
   "source": [
    "def main():\n",
    "    file_path = 'training_data.csv'\n",
    "    df = read_csv(file_path)\n",
    "    hypothesis = find_s_algorithm(df)\n",
    "    print(\"The final hypothesis is:\", hypothesis)\n",
    "\n",
    "if __name__ == \"__main__\":\n",
    "    main()"
   ]
  },
  {
   "cell_type": "code",
   "execution_count": 35,
   "metadata": {},
   "outputs": [
    {
     "name": "stdout",
     "output_type": "stream",
     "text": [
      "Loaded Data:\n",
      "        0      1        2        3      4        5     6\n",
      "0  Sunny   Warm   Normal   Strong   Warm     Same   Yes\n",
      "1  Sunny   Warm     High   Strong   Warm     Same   Yes\n",
      "2  Rainy   Cold     High   Strong   Warm   Change    No\n",
      "3  Sunny   Warm     High   Strong   Cool   Change   Yes\n",
      "Initial Hypothesis: ['0', '0', '0', '0', '0', '0']\n",
      "Processing Example 0: ['Sunny' ' Warm' ' Normal' ' Strong' ' Warm' ' Same'], Target:  Yes\n",
      "Ignored Example (Negative)\n",
      "Processing Example 1: ['Sunny' ' Warm' ' High' ' Strong' ' Warm' ' Same'], Target:  Yes\n",
      "Ignored Example (Negative)\n",
      "Processing Example 2: ['Rainy' ' Cold' ' High' ' Strong' ' Warm' ' Change'], Target:  No\n",
      "Ignored Example (Negative)\n",
      "Processing Example 3: ['Sunny' ' Warm' ' High' ' Strong' ' Cool' ' Change'], Target:  Yes\n",
      "Ignored Example (Negative)\n",
      "Final Hypothesis: ['0', '0', '0', '0', '0', '0']\n"
     ]
    }
   ],
   "source": [
    "import pandas as pd\n",
    "\n",
    "def read_csv(file_path):\n",
    "    \"\"\"Read CSV file into a DataFrame.\"\"\"\n",
    "    return pd.read_csv(file_path, header=None)\n",
    "\n",
    "def preprocess_data(data):\n",
    "    \"\"\"Preprocess the data to trim whitespace and ensure consistency.\"\"\"\n",
    "    data = data.applymap(lambda x: x.strip() if isinstance(x, str) else x)  # Trim whitespace from strings\n",
    "    return data\n",
    "\n",
    "def find_s_algorithm(training_data):\n",
    "    \"\"\"Apply the Find-S algorithm to identify the most specific hypothesis.\"\"\"\n",
    "    # Extract features and target\n",
    "    features = training_data.iloc[:, :-1]  # All columns except the last one\n",
    "    target = training_data.iloc[:, -1]  # Last column, which is the target label\n",
    "\n",
    "    # Initialize the most specific hypothesis\n",
    "    hypothesis = ['0'] * len(features.columns)\n",
    "    print(\"Initial Hypothesis:\", hypothesis)\n",
    "\n",
    "    # Iterate over the training examples\n",
    "    for i in range(len(features)):\n",
    "        print(f\"Processing Example {i}: {features.iloc[i].values}, Target: {target[i]}\")\n",
    "        if target[i].strip() == 'Yes':  # Trim any extra spaces for comparison\n",
    "            for j in range(len(features.columns)):\n",
    "                if hypothesis[j] == '0':\n",
    "                    hypothesis[j] = features.iloc[i, j]  # Set specific value for first time\n",
    "                elif hypothesis[j] != features.iloc[i, j]:\n",
    "                    hypothesis[j] = '?'  # Generalize attribute if it differs\n",
    "            print(\"Updated Hypothesis:\", hypothesis)\n",
    "        else:\n",
    "            print(\"Ignored Example (Negative)\")\n",
    "\n",
    "    return hypothesis\n",
    "\n",
    "def main():\n",
    "    \"\"\"Main function to read data and apply Find-S algorithm.\"\"\"\n",
    "    file_path = 'training_data.csv'  # Define the path to your CSV file\n",
    "    training_data = read_csv(file_path)\n",
    "    training_data = preprocess_data(training_data)  # Preprocess the data\n",
    "    print(\"Loaded Data:\\n\", training_data)\n",
    "    hypothesis = find_s_algorithm(training_data)\n",
    "    print(\"Final Hypothesis:\", hypothesis)\n",
    "\n",
    "if __name__ == \"__main__\":\n",
    "    main()\n"
   ]
  }
 ],
 "metadata": {
  "kernelspec": {
   "display_name": "base",
   "language": "python",
   "name": "python3"
  },
  "language_info": {
   "codemirror_mode": {
    "name": "ipython",
    "version": 3
   },
   "file_extension": ".py",
   "mimetype": "text/x-python",
   "name": "python",
   "nbconvert_exporter": "python",
   "pygments_lexer": "ipython3",
   "version": "3.9.16"
  }
 },
 "nbformat": 4,
 "nbformat_minor": 2
}
