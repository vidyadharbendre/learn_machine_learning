{
 "cells": [
  {
   "cell_type": "code",
   "execution_count": 37,
   "metadata": {},
   "outputs": [],
   "source": [
    "import pandas as pd"
   ]
  },
  {
   "cell_type": "code",
   "execution_count": 38,
   "metadata": {},
   "outputs": [],
   "source": [
    "def read_csv(file_path):\n",
    "    \"\"\"Read CSV file into a DataFrame.\"\"\"\n",
    "    return pd.read_csv(file_path, header=None)\n"
   ]
  },
  {
   "cell_type": "code",
   "execution_count": 47,
   "metadata": {},
   "outputs": [],
   "source": [
    "def preprocess_data(data):\n",
    "    \"\"\"Preprocess the data to trim whitespace from all string values.\"\"\"\n",
    "    return data.applymap(lambda x: x.strip() if isinstance(x, str) else x)\n"
   ]
  },
  {
   "cell_type": "code",
   "execution_count": 44,
   "metadata": {},
   "outputs": [],
   "source": [
    "def preprocess_data(data):\n",
    "    \"\"\"Preprocess the data to trim whitespace and ensure consistency.\"\"\"\n",
    "    data = data.apply(lambda col: col.map(lambda x: x.strip() if isinstance(x, str) else x))\n",
    "    return data\n"
   ]
  },
  {
   "cell_type": "code",
   "execution_count": 48,
   "metadata": {},
   "outputs": [],
   "source": [
    "def find_s_algorithm(training_data):\n",
    "    \"\"\"Apply the Find-S algorithm to identify the most specific hypothesis.\"\"\"\n",
    "    # Extract features and target\n",
    "    features = training_data.iloc[:, :-1]  # All columns except the last one\n",
    "    target = training_data.iloc[:, -1]  # Last column, which is the target label\n",
    "\n",
    "    # Initialize the most specific hypothesis\n",
    "    hypothesis = ['0'] * len(features.columns)\n",
    "    print(\"Initial Hypothesis:\", hypothesis)\n",
    "\n",
    "    # Iterate over the training examples\n",
    "    for i in range(len(features)):\n",
    "        print(f\"Processing Example {i}: {features.iloc[i].values}, Target: {target[i]}\")\n",
    "        if target[i].strip() == 'Yes':  # Trim any extra spaces for comparison\n",
    "            for j in range(len(features.columns)):\n",
    "                if hypothesis[j] == '0':\n",
    "                    hypothesis[j] = features.iloc[i, j]  # Set specific value for first time\n",
    "                elif hypothesis[j] != features.iloc[i, j]:\n",
    "                    hypothesis[j] = '?'  # Generalize attribute if it differs\n",
    "            print(\"Updated Hypothesis:\", hypothesis)\n",
    "        else:\n",
    "            print(\"Ignored Example (Negative)\")\n",
    "\n",
    "    return hypothesis\n"
   ]
  },
  {
   "cell_type": "code",
   "execution_count": 49,
   "metadata": {},
   "outputs": [
    {
     "name": "stdout",
     "output_type": "stream",
     "text": [
      "Loaded Data:\n",
      "        0     1       2       3     4       5    6\n",
      "0  Sunny  Warm  Normal  Strong  Warm    Same  Yes\n",
      "1  Sunny  Warm    High  Strong  Warm    Same  Yes\n",
      "2  Rainy  Cold    High  Strong  Warm  Change   No\n",
      "3  Sunny  Warm    High  Strong  Cool  Change  Yes\n",
      "Initial Hypothesis: ['0', '0', '0', '0', '0', '0']\n",
      "Processing Example 0: ['Sunny' 'Warm' 'Normal' 'Strong' 'Warm' 'Same'], Target: Yes\n",
      "Updated Hypothesis: ['Sunny', 'Warm', 'Normal', 'Strong', 'Warm', 'Same']\n",
      "Processing Example 1: ['Sunny' 'Warm' 'High' 'Strong' 'Warm' 'Same'], Target: Yes\n",
      "Updated Hypothesis: ['Sunny', 'Warm', '?', 'Strong', 'Warm', 'Same']\n",
      "Processing Example 2: ['Rainy' 'Cold' 'High' 'Strong' 'Warm' 'Change'], Target: No\n",
      "Ignored Example (Negative)\n",
      "Processing Example 3: ['Sunny' 'Warm' 'High' 'Strong' 'Cool' 'Change'], Target: Yes\n",
      "Updated Hypothesis: ['Sunny', 'Warm', '?', 'Strong', '?', '?']\n",
      "Final Hypothesis: ['Sunny', 'Warm', '?', 'Strong', '?', '?']\n"
     ]
    },
    {
     "name": "stderr",
     "output_type": "stream",
     "text": [
      "/var/folders/kd/yddgdhm92qxgkw2js4t89ksr0000gn/T/ipykernel_6302/656939950.py:3: FutureWarning: DataFrame.applymap has been deprecated. Use DataFrame.map instead.\n",
      "  return data.applymap(lambda x: x.strip() if isinstance(x, str) else x)\n"
     ]
    }
   ],
   "source": [
    "def main():\n",
    "    \"\"\"Main function to read data and apply Find-S algorithm.\"\"\"\n",
    "    file_path = 'training_data.csv'  # Define the path to your CSV file\n",
    "    training_data = read_csv(file_path)\n",
    "    training_data = preprocess_data(training_data)  # Preprocess the data\n",
    "    print(\"Loaded Data:\\n\", training_data)\n",
    "    hypothesis = find_s_algorithm(training_data)\n",
    "    print(\"Final Hypothesis:\", hypothesis)\n",
    "\n",
    "if __name__ == \"__main__\":\n",
    "    main()\n"
   ]
  },
  {
   "cell_type": "code",
   "execution_count": 42,
   "metadata": {},
   "outputs": [
    {
     "name": "stdout",
     "output_type": "stream",
     "text": [
      "Loaded Data:\n",
      "        0     1       2       3     4       5    6\n",
      "0  Sunny  Warm  Normal  Strong  Warm    Same  Yes\n",
      "1  Sunny  Warm    High  Strong  Warm    Same  Yes\n",
      "2  Rainy  Cold    High  Strong  Warm  Change   No\n",
      "3  Sunny  Warm    High  Strong  Cool  Change  Yes\n",
      "Initial Hypothesis: ['0', '0', '0', '0', '0', '0']\n",
      "Processing Example 0: ['Sunny' 'Warm' 'Normal' 'Strong' 'Warm' 'Same'], Target: Yes\n",
      "Updated Hypothesis: ['Sunny', 'Warm', 'Normal', 'Strong', 'Warm', 'Same']\n",
      "Processing Example 1: ['Sunny' 'Warm' 'High' 'Strong' 'Warm' 'Same'], Target: Yes\n",
      "Updated Hypothesis: ['Sunny', 'Warm', '?', 'Strong', 'Warm', 'Same']\n",
      "Processing Example 2: ['Rainy' 'Cold' 'High' 'Strong' 'Warm' 'Change'], Target: No\n",
      "Ignored Example (Negative)\n",
      "Processing Example 3: ['Sunny' 'Warm' 'High' 'Strong' 'Cool' 'Change'], Target: Yes\n",
      "Updated Hypothesis: ['Sunny', 'Warm', '?', 'Strong', '?', '?']\n",
      "Final Hypothesis: ['Sunny', 'Warm', '?', 'Strong', '?', '?']\n"
     ]
    }
   ],
   "source": [
    "import pandas as pd\n",
    "\n",
    "def read_csv(file_path):\n",
    "    \"\"\"Read CSV file into a DataFrame.\"\"\"\n",
    "    return pd.read_csv(file_path, header=None)\n",
    "\n",
    "def preprocess_data(data):\n",
    "    \"\"\"Preprocess the data to trim whitespace and ensure consistency.\"\"\"\n",
    "    data = data.apply(lambda col: col.map(lambda x: x.strip() if isinstance(x, str) else x))\n",
    "    return data\n",
    "\n",
    "def find_s_algorithm(training_data):\n",
    "    \"\"\"Apply the Find-S algorithm to identify the most specific hypothesis.\"\"\"\n",
    "    # Extract features and target\n",
    "    features = training_data.iloc[:, :-1]  # All columns except the last one\n",
    "    target = training_data.iloc[:, -1]  # Last column, which is the target label\n",
    "\n",
    "    # Initialize the most specific hypothesis\n",
    "    hypothesis = ['0'] * len(features.columns)\n",
    "    print(\"Initial Hypothesis:\", hypothesis)\n",
    "\n",
    "    # Iterate over the training examples\n",
    "    for i in range(len(features)):\n",
    "        print(f\"Processing Example {i}: {features.iloc[i].values}, Target: {target[i]}\")\n",
    "        if target[i].strip() == 'Yes':  # Trim any extra spaces for comparison\n",
    "            for j in range(len(features.columns)):\n",
    "                if hypothesis[j] == '0':\n",
    "                    hypothesis[j] = features.iloc[i, j]  # Set specific value for first time\n",
    "                elif hypothesis[j] != features.iloc[i, j]:\n",
    "                    hypothesis[j] = '?'  # Generalize attribute if it differs\n",
    "            print(\"Updated Hypothesis:\", hypothesis)\n",
    "        else:\n",
    "            print(\"Ignored Example (Negative)\")\n",
    "\n",
    "    return hypothesis\n",
    "\n",
    "def main():\n",
    "    \"\"\"Main function to read data and apply Find-S algorithm.\"\"\"\n",
    "    file_path = 'training_data.csv'  # Define the path to your CSV file\n",
    "    training_data = read_csv(file_path)\n",
    "    training_data = preprocess_data(training_data)  # Preprocess the data\n",
    "    print(\"Loaded Data:\\n\", training_data)\n",
    "    hypothesis = find_s_algorithm(training_data)\n",
    "    print(\"Final Hypothesis:\", hypothesis)\n",
    "\n",
    "if __name__ == \"__main__\":\n",
    "    main()"
   ]
  }
 ],
 "metadata": {
  "kernelspec": {
   "display_name": "base",
   "language": "python",
   "name": "python3"
  },
  "language_info": {
   "codemirror_mode": {
    "name": "ipython",
    "version": 3
   },
   "file_extension": ".py",
   "mimetype": "text/x-python",
   "name": "python",
   "nbconvert_exporter": "python",
   "pygments_lexer": "ipython3",
   "version": "3.9.16"
  }
 },
 "nbformat": 4,
 "nbformat_minor": 2
}
