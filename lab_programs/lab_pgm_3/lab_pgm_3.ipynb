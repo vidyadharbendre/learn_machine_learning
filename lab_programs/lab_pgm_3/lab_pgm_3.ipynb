{
 "cells": [
  {
   "cell_type": "markdown",
   "id": "f60e129f",
   "metadata": {},
   "source": [
    "To construct the Decision tree using the training data sets under supervised learning concept. Program: Write a program to demonstrate the working of the decision tree based ID3 algorithm. Use an appropriate data set for building the decision tree and apply this knowledge to classify a new sample."
   ]
  },
  {
   "cell_type": "code",
   "execution_count": 8,
   "id": "a382b6b4",
   "metadata": {},
   "outputs": [],
   "source": [
    "import math\n",
    "import csv"
   ]
  },
  {
   "cell_type": "code",
   "execution_count": 11,
   "id": "b13312f3",
   "metadata": {},
   "outputs": [],
   "source": [
    "def load_csv(filename):\n",
    "    \"\"\"Load CSV file and return dataset and headers.\"\"\"\n",
    "    with open(filename, \"r\") as file:\n",
    "        lines = csv.reader(file)\n",
    "        dataset = list(lines)\n",
    "        headers = dataset.pop(0)\n",
    "    return dataset, headers"
   ]
  },
  {
   "cell_type": "code",
   "execution_count": 12,
   "id": "286986a9",
   "metadata": {},
   "outputs": [],
   "source": [
    "class Node:\n",
    "    \"\"\"Class representing a node in the decision tree.\"\"\"\n",
    "    def __init__(self, attribute):\n",
    "        self.attribute = attribute\n",
    "        self.children = []\n",
    "        self.answer = \"\""
   ]
  },
  {
   "cell_type": "code",
   "execution_count": 9,
   "id": "ba1a9d32",
   "metadata": {},
   "outputs": [],
   "source": [
    "def subtables(data, col, delete):\n",
    "    \"\"\"Create subtables for each unique value of a column.\"\"\"\n",
    "    dic = {}\n",
    "    coldata = [row[col] for row in data]\n",
    "    attr = list(set(coldata))\n",
    "    counts = [0] * len(attr)\n",
    "    r = len(data)\n",
    "    c = len(data[0])\n",
    "    for x in range(len(attr)):\n",
    "        for y in range(r):\n",
    "            if data[y][col] == attr[x]:\n",
    "                counts[x] += 1\n",
    "    for x in range(len(attr)):\n",
    "        dic[attr[x]] = [[0 for _ in range(c)] for _ in range(counts[x])]\n",
    "        pos = 0\n",
    "        for y in range(r):\n",
    "            if data[y][col] == attr[x]:\n",
    "                if delete:\n",
    "                    del data[y][col]\n",
    "                dic[attr[x]][pos] = data[y]\n",
    "                pos += 1\n",
    "    return attr, dic"
   ]
  },
  {
   "cell_type": "code",
   "execution_count": null,
   "id": "bbee7efa",
   "metadata": {},
   "outputs": [],
   "source": [
    "def entropy(S):\n",
    "    \"\"\"Calculate the entropy of a set.\"\"\"\n",
    "    attr = list(set(S))\n",
    "    if len(attr) == 1:\n",
    "        return 0\n",
    "    counts = [0, 0]\n",
    "    for i in range(2):\n",
    "        counts[i] = sum([1 for x in S if attr[i] == x]) / (len(S) * 1.0)\n",
    "    sums = 0\n",
    "    for cnt in counts:\n",
    "        sums += -1 * cnt * math.log(cnt, 2)\n",
    "    return sums"
   ]
  },
  {
   "cell_type": "code",
   "execution_count": 13,
   "id": "ac68bf65",
   "metadata": {},
   "outputs": [],
   "source": [
    "def compute_gain(data, col):\n",
    "    \"\"\"Compute the information gain of a column.\"\"\"\n",
    "    attr, dic = subtables(data, col, delete=False)\n",
    "    total_size = len(data)\n",
    "    entropies = [0] * len(attr)\n",
    "    ratio = [0] * len(attr)\n",
    "    total_entropy = entropy([row[-1] for row in data])\n",
    "    for x in range(len(attr)):\n",
    "        ratio[x] = len(dic[attr[x]]) / (total_size * 1.0)\n",
    "        entropies[x] = entropy([row[-1] for row in dic[attr[x]]])\n",
    "        total_entropy -= ratio[x] * entropies[x]\n",
    "    return total_entropy\n",
    "\n"
   ]
  },
  {
   "cell_type": "code",
   "execution_count": 14,
   "id": "74172fd6",
   "metadata": {},
   "outputs": [],
   "source": [
    "def build_tree(data, features):\n",
    "    \"\"\"Build the decision tree using the ID3 algorithm.\"\"\"\n",
    "    lastcol = [row[-1] for row in data]\n",
    "    if len(set(lastcol)) == 1:\n",
    "        node = Node(\"\")\n",
    "        node.answer = lastcol[0]\n",
    "        return node\n",
    "    n = len(data[0]) - 1\n",
    "    gains = [0] * n\n",
    "    for col in range(n):\n",
    "        gains[col] = compute_gain(data, col)\n",
    "    split = gains.index(max(gains))\n",
    "    node = Node(features[split])\n",
    "    fea = features[:split] + features[split + 1:]\n",
    "    attr, dic = subtables(data, split, delete=True)\n",
    "    for x in range(len(attr)):\n",
    "        child = build_tree(dic[attr[x]], fea)\n",
    "        node.children.append((attr[x], child))\n",
    "    return node"
   ]
  },
  {
   "cell_type": "code",
   "execution_count": 15,
   "id": "e877e9d3",
   "metadata": {},
   "outputs": [],
   "source": [
    "def print_tree(node, level=0):\n",
    "    \"\"\"Print the decision tree.\"\"\"\n",
    "    if node.answer != \"\":\n",
    "        print(\" \" * level, node.answer)\n",
    "        return\n",
    "    print(\" \" * level, node.attribute)\n",
    "    for value, n in node.children:\n",
    "        print(\" \" * (level + 1), value)\n",
    "        print_tree(n, level + 2)"
   ]
  },
  {
   "cell_type": "code",
   "execution_count": 16,
   "id": "d2dcd438",
   "metadata": {},
   "outputs": [],
   "source": [
    "def classify(node, x_test, features):\n",
    "    \"\"\"Classify a new sample using the decision tree.\"\"\"\n",
    "    if node.answer != \"\":\n",
    "        print(node.answer)\n",
    "        return\n",
    "    pos = features.index(node.attribute)\n",
    "    for value, n in node.children:\n",
    "        if x_test[pos] == value:\n",
    "            classify(n, x_test, features)"
   ]
  },
  {
   "cell_type": "code",
   "execution_count": 17,
   "id": "29761212",
   "metadata": {},
   "outputs": [
    {
     "name": "stdout",
     "output_type": "stream",
     "text": [
      "The decision tree for the dataset using the ID3 algorithm is:\n",
      " Outlook\n",
      "  Rain\n",
      "   Wind\n",
      "    Strong\n",
      "     No\n",
      "    Weak\n",
      "     Yes\n",
      "  Sunny\n",
      "   Humidity\n",
      "    High\n",
      "     No\n",
      "    Normal\n",
      "     Yes\n",
      "  Overcast\n",
      "   Yes\n",
      "The test instance: ['Sunny', 'Hot', 'High', 'Weak']\n",
      "The label for the test instance: No\n",
      "The test instance: ['Rain', 'Cool', 'Normal', 'Strong']\n",
      "The label for the test instance: No\n",
      "The test instance: ['Overcast', 'Mild', 'High', 'Weak']\n",
      "The label for the test instance: Yes\n",
      "The test instance: ['Sunny', 'Cool', 'High', 'Strong']\n",
      "The label for the test instance: No\n"
     ]
    }
   ],
   "source": [
    "if __name__ == \"__main__\":\n",
    "    # Load training data\n",
    "    dataset, features = load_csv(\"data.csv\")\n",
    "    \n",
    "    # Build decision tree\n",
    "    tree = build_tree(dataset, features)\n",
    "    print(\"The decision tree for the dataset using the ID3 algorithm is:\")\n",
    "    print_tree(tree)\n",
    "    \n",
    "    # Load test data\n",
    "    test_data, test_features = load_csv(\"data_test.csv\")\n",
    "    for test_instance in test_data:\n",
    "        print(\"The test instance:\", test_instance)\n",
    "        print(\"The label for the test instance:\", end=\" \")\n",
    "        classify(tree, test_instance, test_features)"
   ]
  },
  {
   "cell_type": "code",
   "execution_count": null,
   "id": "5d84d395",
   "metadata": {},
   "outputs": [],
   "source": []
  }
 ],
 "metadata": {
  "kernelspec": {
   "display_name": "Python 3 (ipykernel)",
   "language": "python",
   "name": "python3"
  },
  "language_info": {
   "codemirror_mode": {
    "name": "ipython",
    "version": 3
   },
   "file_extension": ".py",
   "mimetype": "text/x-python",
   "name": "python",
   "nbconvert_exporter": "python",
   "pygments_lexer": "ipython3",
   "version": "3.9.16"
  }
 },
 "nbformat": 4,
 "nbformat_minor": 5
}
