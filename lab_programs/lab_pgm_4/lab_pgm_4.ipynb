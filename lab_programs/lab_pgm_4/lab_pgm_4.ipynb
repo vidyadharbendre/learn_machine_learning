{
 "cells": [
  {
   "cell_type": "markdown",
   "id": "39e2fd7d",
   "metadata": {},
   "source": [
    "Aim: To understand the working principle of Artificial Neural network with feed forward and feed backward principle.\n",
    "Program: Build an Artificial Neural Network by implementing the Backpropagation algorithm and test the same using appropriate data sets."
   ]
  },
  {
   "cell_type": "code",
   "execution_count": 20,
   "id": "bbfcbf97",
   "metadata": {},
   "outputs": [],
   "source": [
    "import numpy as np\n",
    "from matplotlib import pyplot as plt"
   ]
  },
  {
   "cell_type": "code",
   "execution_count": 21,
   "id": "0905a8ff",
   "metadata": {},
   "outputs": [],
   "source": [
    "# Defining some sample input x and output y\n",
    "x = np.array([[0, 0], [0, 1], [1, 0], [1, 1]])\n",
    "y = np.array([[0], [1], [1], [0]])\n",
    "x_b = np.array([[1, 0, 0], [1, 0, 1], [1, 1, 0], [1, 1, 1]])  # Defining the input with bias 'b'"
   ]
  },
  {
   "cell_type": "code",
   "execution_count": 22,
   "id": "7c56d7d1",
   "metadata": {},
   "outputs": [],
   "source": [
    "# Define the ANN architecture\n",
    "inp_size = 3  # 3 neurons in the input layer including one for bias\n",
    "hid_size = 3  # 3 neurons in the hidden layer\n",
    "out_size = 1  # 1 neuron for output"
   ]
  },
  {
   "cell_type": "code",
   "execution_count": 23,
   "id": "3f4b32b5",
   "metadata": {},
   "outputs": [],
   "source": [
    "# Randomly initialize the weight between input and hidden layer for the size of inp_size x hid_size\n",
    "w1 = np.random.randn(inp_size, hid_size)\n",
    "# Randomly initialize the weight between hidden and output layer for the size of hid_size x out_size\n",
    "w2 = np.random.randn(hid_size, out_size)"
   ]
  },
  {
   "cell_type": "code",
   "execution_count": 24,
   "id": "18435e9c",
   "metadata": {},
   "outputs": [],
   "source": [
    "# Define a sigmoid activation function\n",
    "def sigmoid(z):\n",
    "    return 1 / (1 + np.exp(-z))"
   ]
  },
  {
   "cell_type": "code",
   "execution_count": 25,
   "id": "b778a1b7",
   "metadata": {},
   "outputs": [],
   "source": [
    "# Define the logic of feed forward path\n",
    "def forward(x, w1, w2):\n",
    "    z1 = np.dot(x, w1)\n",
    "    y1 = sigmoid(z1)\n",
    "    z2 = np.dot(y1, w2)\n",
    "    out = sigmoid(z2)\n",
    "    return out, y1"
   ]
  },
  {
   "cell_type": "code",
   "execution_count": 26,
   "id": "b7beef9a",
   "metadata": {},
   "outputs": [],
   "source": [
    "# Define the operations of backward propagation\n",
    "def backward(x, y, w1, w2, y1, out):\n",
    "    out_err = y - out\n",
    "    out_delta = out_err * (out * (1 - out))\n",
    "    \n",
    "    y1_err = np.dot(out_delta, w2.T)\n",
    "    y1_delta = y1_err * (y1 * (1 - y1))\n",
    "    \n",
    "    w2 += np.dot(y1.T, out_delta)  # consider alpha=1\n",
    "    w1 += np.dot(x.T, y1_delta)\n",
    "    \n",
    "    return w1, w2"
   ]
  },
  {
   "cell_type": "code",
   "execution_count": 27,
   "id": "3f9d05e9",
   "metadata": {},
   "outputs": [],
   "source": [
    "# Train the whole network with forward and backward logic\n",
    "def train(x, y, w1, w2):\n",
    "    out, y1 = forward(x, w1, w2)\n",
    "    w1, w2 = backward(x, y, w1, w2, y1, out)\n",
    "    return w1, w2, out"
   ]
  },
  {
   "cell_type": "code",
   "execution_count": 28,
   "id": "1807db9b",
   "metadata": {},
   "outputs": [],
   "source": [
    "# Predict the output for given input by applying trained weights\n",
    "def predict(x, w1, w2):\n",
    "    out, _ = forward(x, w1, w2)\n",
    "    return out"
   ]
  },
  {
   "cell_type": "code",
   "execution_count": 29,
   "id": "2375535b",
   "metadata": {},
   "outputs": [],
   "source": [
    "# Training the model with 1000 iterations\n",
    "loss = np.zeros([1000, 1], dtype=float)\n",
    "for i in range(1000):\n",
    "    w1, w2, out = train(x_b, y, w1, w2)\n",
    "    loss[i] = np.mean(np.square(y - out))"
   ]
  },
  {
   "cell_type": "code",
   "execution_count": 30,
   "id": "dda905af",
   "metadata": {},
   "outputs": [
    {
     "data": {
      "image/png": "[encoded data removed]",
      "text/plain": [
       "<Figure size 640x480 with 1 Axes>"
      ]
     },
     "metadata": {},
     "output_type": "display_data"
    }
   ],
   "source": [
    "plt.plot(loss)\n",
    "plt.title('Loss over iterations')\n",
    "plt.xlabel('Iterations')\n",
    "plt.ylabel('Loss')\n",
    "plt.show()"
   ]
  },
  {
   "cell_type": "code",
   "execution_count": 31,
   "id": "cc261554",
   "metadata": {},
   "outputs": [
    {
     "name": "stdout",
     "output_type": "stream",
     "text": [
      "[[0.03448091]\n",
      " [0.95403897]\n",
      " [0.95354878]\n",
      " [0.04987638]]\n"
     ]
    }
   ],
   "source": [
    "# Testing the model\n",
    "tes = np.array([[1, 0, 0], [1, 0, 1], [1, 1, 0], [1, 1, 1]])\n",
    "pred = predict(tes, w1, w2)\n",
    "print(pred)"
   ]
  },
  {
   "cell_type": "code",
   "execution_count": null,
   "id": "7bb3d459",
   "metadata": {},
   "outputs": [],
   "source": []
  }
 ],
 "metadata": {
  "kernelspec": {
   "display_name": "Python 3 (ipykernel)",
   "language": "python",
   "name": "python3"
  },
  "language_info": {
   "codemirror_mode": {
    "name": "ipython",
    "version": 3
   },
   "file_extension": ".py",
   "mimetype": "text/x-python",
   "name": "python",
   "nbconvert_exporter": "python",
   "pygments_lexer": "ipython3",
   "version": "3.9.16"
  }
 },
 "nbformat": 4,
 "nbformat_minor": 5
}
