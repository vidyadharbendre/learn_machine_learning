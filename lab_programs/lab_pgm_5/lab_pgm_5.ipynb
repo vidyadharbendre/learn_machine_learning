{
 "cells": [
  {
   "cell_type": "markdown",
   "id": "70855b0c",
   "metadata": {},
   "source": [
    "Aim: Demonstrate the text classifier using Naïve bayes classifier algorithm.\n",
    "Program: Write a program to implement the naive Bayesian classifier for a sample training data set stored as a .CSV file. Compute the accuracy of the classifier, considering few test data sets."
   ]
  },
  {
   "cell_type": "code",
   "execution_count": 6,
   "id": "8a26fbae",
   "metadata": {},
   "outputs": [],
   "source": [
    "import pandas as pd\n",
    "from sklearn.model_selection import train_test_split\n",
    "from sklearn.feature_extraction.text import CountVectorizer\n",
    "from sklearn.naive_bayes import MultinomialNB\n",
    "from sklearn import metrics"
   ]
  },
  {
   "cell_type": "code",
   "execution_count": 13,
   "id": "17dbfe7f",
   "metadata": {},
   "outputs": [
    {
     "data": {
      "text/html": [
       "<div>\n",
       "<style scoped>\n",
       "    .dataframe tbody tr th:only-of-type {\n",
       "        vertical-align: middle;\n",
       "    }\n",
       "\n",
       "    .dataframe tbody tr th {\n",
       "        vertical-align: top;\n",
       "    }\n",
       "\n",
       "    .dataframe thead th {\n",
       "        text-align: right;\n",
       "    }\n",
       "</style>\n",
       "<table border=\"1\" class=\"dataframe\">\n",
       "  <thead>\n",
       "    <tr style=\"text-align: right;\">\n",
       "      <th></th>\n",
       "      <th>message</th>\n",
       "      <th>label</th>\n",
       "    </tr>\n",
       "  </thead>\n",
       "  <tbody>\n",
       "    <tr>\n",
       "      <th>0</th>\n",
       "      <td>I love this product</td>\n",
       "      <td>pos</td>\n",
       "    </tr>\n",
       "    <tr>\n",
       "      <th>1</th>\n",
       "      <td>This is the worst experience ever</td>\n",
       "      <td>neg</td>\n",
       "    </tr>\n",
       "    <tr>\n",
       "      <th>2</th>\n",
       "      <td>I am very happy with the service</td>\n",
       "      <td>pos</td>\n",
       "    </tr>\n",
       "    <tr>\n",
       "      <th>3</th>\n",
       "      <td>The item was broken when it arrived</td>\n",
       "      <td>neg</td>\n",
       "    </tr>\n",
       "    <tr>\n",
       "      <th>4</th>\n",
       "      <td>Great quality and fast shipping</td>\n",
       "      <td>pos</td>\n",
       "    </tr>\n",
       "  </tbody>\n",
       "</table>\n",
       "</div>"
      ],
      "text/plain": [
       "                               message label\n",
       "0                  I love this product   pos\n",
       "1    This is the worst experience ever   neg\n",
       "2     I am very happy with the service   pos\n",
       "3  The item was broken when it arrived   neg\n",
       "4      Great quality and fast shipping   pos"
      ]
     },
     "execution_count": 13,
     "metadata": {},
     "output_type": "execute_result"
    }
   ],
   "source": [
    "# Load the dataset with the first row as headers\n",
    "msg = pd.read_csv('training_dataset.csv', names=['message', 'label'], header=0)\n",
    "msg.head()"
   ]
  },
  {
   "cell_type": "code",
   "execution_count": 12,
   "id": "30cd9c66",
   "metadata": {},
   "outputs": [
    {
     "name": "stdout",
     "output_type": "stream",
     "text": [
      "The dimensions of the dataset: (10, 3)\n",
      "0                    I love this product\n",
      "1      This is the worst experience ever\n",
      "2       I am very happy with the service\n",
      "3    The item was broken when it arrived\n",
      "4        Great quality and fast shipping\n",
      "5              Terrible customer support\n",
      "6              Excellent value for money\n",
      "7                     Very disappointing\n",
      "8                     Amazing experience\n",
      "9                    Not worth the price\n",
      "Name: message, dtype: object\n",
      "0    1\n",
      "1    0\n",
      "2    1\n",
      "3    0\n",
      "4    1\n",
      "5    0\n",
      "6    1\n",
      "7    0\n",
      "8    1\n",
      "9    0\n",
      "Name: labelnum, dtype: int64\n"
     ]
    }
   ],
   "source": [
    "# Print the dimensions of the dataset\n",
    "print('The dimensions of the dataset:', msg.shape)\n",
    "\n",
    "# Map labels to numerical values\n",
    "msg['labelnum'] = msg.label.map({'pos': 1, 'neg': 0})\n",
    "\n",
    "# Separate features and labels\n",
    "X = msg.message\n",
    "y = msg.labelnum\n",
    "\n",
    "# Print features and labels\n",
    "print(X)\n",
    "print(y)"
   ]
  },
  {
   "cell_type": "code",
   "execution_count": 8,
   "id": "0eb726fb",
   "metadata": {},
   "outputs": [
    {
     "name": "stdout",
     "output_type": "stream",
     "text": [
      "Training set shape: (8,)\n",
      "Test set shape: (2,)\n",
      "Training labels shape: (8,)\n",
      "Test labels shape: (2,)\n"
     ]
    }
   ],
   "source": [
    "# Split the dataset into training and testing sets\n",
    "X_train, X_test, y_train, y_test = train_test_split(X, y, test_size=0.2, random_state=42)\n",
    "\n",
    "# Print the shapes of the train and test sets\n",
    "print('Training set shape:', X_train.shape)\n",
    "print('Test set shape:', X_test.shape)\n",
    "print('Training labels shape:', y_train.shape)\n",
    "print('Test labels shape:', y_test.shape)"
   ]
  },
  {
   "cell_type": "code",
   "execution_count": 9,
   "id": "1749f520",
   "metadata": {},
   "outputs": [],
   "source": [
    "# Transform the text data to feature vectors\n",
    "count_vect = CountVectorizer()\n",
    "X_train_dtm = count_vect.fit_transform(X_train)\n",
    "X_test_dtm = count_vect.transform(X_test)"
   ]
  },
  {
   "cell_type": "code",
   "execution_count": 10,
   "id": "57aaeacc",
   "metadata": {},
   "outputs": [],
   "source": [
    "# Train the Naive Bayes classifier\n",
    "clf = MultinomialNB().fit(X_train_dtm, y_train)"
   ]
  },
  {
   "cell_type": "code",
   "execution_count": 11,
   "id": "17ab0a74",
   "metadata": {},
   "outputs": [
    {
     "name": "stdout",
     "output_type": "stream",
     "text": [
      "Accuracy metrics\n",
      "Accuracy of the classifier: 0.0\n",
      "Confusion matrix:\n",
      " [[0 1]\n",
      " [1 0]]\n",
      "Recall: 0.0\n",
      "Precision: 0.0\n"
     ]
    }
   ],
   "source": [
    "# Predict the labels for the test set\n",
    "predicted = clf.predict(X_test_dtm)\n",
    "\n",
    "# Evaluate the classifier\n",
    "print('Accuracy metrics')\n",
    "print('Accuracy of the classifier:', metrics.accuracy_score(y_test, predicted))\n",
    "print('Confusion matrix:\\n', metrics.confusion_matrix(y_test, predicted))\n",
    "print('Recall:', metrics.recall_score(y_test, predicted))\n",
    "print('Precision:', metrics.precision_score(y_test, predicted))\n"
   ]
  },
  {
   "cell_type": "code",
   "execution_count": null,
   "id": "381fa388",
   "metadata": {},
   "outputs": [],
   "source": []
  }
 ],
 "metadata": {
  "kernelspec": {
   "display_name": "Python 3 (ipykernel)",
   "language": "python",
   "name": "python3"
  },
  "language_info": {
   "codemirror_mode": {
    "name": "ipython",
    "version": 3
   },
   "file_extension": ".py",
   "mimetype": "text/x-python",
   "name": "python",
   "nbconvert_exporter": "python",
   "pygments_lexer": "ipython3",
   "version": "3.9.16"
  }
 },
 "nbformat": 4,
 "nbformat_minor": 5
}
