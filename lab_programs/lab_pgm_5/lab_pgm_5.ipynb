{
 "cells": [
  {
   "cell_type": "markdown",
   "id": "89e39e0a",
   "metadata": {},
   "source": [
    "Aim: Demonstrate the text classifier using Naïve bayes classifier algorithm.\n",
    "Program: Write a program to implement the naive Bayesian classifier for a sample training data set stored as a .CSV file. Compute the accuracy of the classifier, considering few test data sets."
   ]
  },
  {
   "cell_type": "code",
   "execution_count": 5,
   "id": "e4e484f3",
   "metadata": {},
   "outputs": [
    {
     "name": "stdout",
     "output_type": "stream",
     "text": [
      "The dimensions of the dataset: (10, 2)\n",
      "0                    I love this product\n",
      "1      This is the worst experience ever\n",
      "2       I am very happy with the service\n",
      "3    The item was broken when it arrived\n",
      "4        Great quality and fast shipping\n",
      "5              Terrible customer support\n",
      "6              Excellent value for money\n",
      "7                     Very disappointing\n",
      "8                     Amazing experience\n",
      "9                    Not worth the price\n",
      "Name: message, dtype: object\n",
      "0    1\n",
      "1    0\n",
      "2    1\n",
      "3    0\n",
      "4    1\n",
      "5    0\n",
      "6    1\n",
      "7    0\n",
      "8    1\n",
      "9    0\n",
      "Name: labelnum, dtype: int64\n",
      "Training set shape: (8,)\n",
      "Test set shape: (2,)\n",
      "Training labels shape: (8,)\n",
      "Test labels shape: (2,)\n",
      "Accuracy metrics\n",
      "Accuracy of the classifier: 0.0\n",
      "Confusion matrix:\n",
      " [[0 1]\n",
      " [1 0]]\n",
      "Recall: 0.0\n",
      "Precision: 0.0\n"
     ]
    }
   ],
   "source": [
    "import pandas as pd\n",
    "from sklearn.model_selection import train_test_split\n",
    "from sklearn.feature_extraction.text import CountVectorizer\n",
    "from sklearn.naive_bayes import MultinomialNB\n",
    "from sklearn import metrics\n",
    "\n",
    "# Load the dataset with the first row as headers\n",
    "msg = pd.read_csv('training_dataset.csv', names=['message', 'label'], header=0)\n",
    "\n",
    "# Print the dimensions of the dataset\n",
    "print('The dimensions of the dataset:', msg.shape)\n",
    "\n",
    "# Map labels to numerical values\n",
    "msg['labelnum'] = msg.label.map({'pos': 1, 'neg': 0})\n",
    "\n",
    "# Separate features and labels\n",
    "X = msg.message\n",
    "y = msg.labelnum\n",
    "\n",
    "# Print features and labels\n",
    "print(X)\n",
    "print(y)\n",
    "\n",
    "# Split the dataset into training and testing sets\n",
    "X_train, X_test, y_train, y_test = train_test_split(X, y, test_size=0.2, random_state=42)\n",
    "\n",
    "# Print the shapes of the train and test sets\n",
    "print('Training set shape:', X_train.shape)\n",
    "print('Test set shape:', X_test.shape)\n",
    "print('Training labels shape:', y_train.shape)\n",
    "print('Test labels shape:', y_test.shape)\n",
    "\n",
    "# Transform the text data to feature vectors\n",
    "count_vect = CountVectorizer()\n",
    "X_train_dtm = count_vect.fit_transform(X_train)\n",
    "X_test_dtm = count_vect.transform(X_test)\n",
    "\n",
    "# Train the Naive Bayes classifier\n",
    "clf = MultinomialNB().fit(X_train_dtm, y_train)\n",
    "\n",
    "# Predict the labels for the test set\n",
    "predicted = clf.predict(X_test_dtm)\n",
    "\n",
    "# Evaluate the classifier\n",
    "print('Accuracy metrics')\n",
    "print('Accuracy of the classifier:', metrics.accuracy_score(y_test, predicted))\n",
    "print('Confusion matrix:\\n', metrics.confusion_matrix(y_test, predicted))\n",
    "print('Recall:', metrics.recall_score(y_test, predicted))\n",
    "print('Precision:', metrics.precision_score(y_test, predicted))\n"
   ]
  },
  {
   "cell_type": "code",
   "execution_count": null,
   "id": "cc81f86c",
   "metadata": {},
   "outputs": [],
   "source": []
  }
 ],
 "metadata": {
  "kernelspec": {
   "display_name": "Python 3 (ipykernel)",
   "language": "python",
   "name": "python3"
  },
  "language_info": {
   "codemirror_mode": {
    "name": "ipython",
    "version": 3
   },
   "file_extension": ".py",
   "mimetype": "text/x-python",
   "name": "python",
   "nbconvert_exporter": "python",
   "pygments_lexer": "ipython3",
   "version": "3.9.16"
  }
 },
 "nbformat": 4,
 "nbformat_minor": 5
}
