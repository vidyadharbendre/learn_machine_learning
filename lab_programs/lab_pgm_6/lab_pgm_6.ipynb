{
 "cells": [
  {
   "cell_type": "code",
   "execution_count": 4,
   "id": "bab35503",
   "metadata": {},
   "outputs": [
    {
     "name": "stdout",
     "output_type": "stream",
     "text": [
      "Collecting pgmpy\n",
      "  Using cached pgmpy-0.1.25-py3-none-any.whl.metadata (6.4 kB)\n",
      "Requirement already satisfied: networkx in /Users/vidyadharbendre/miniforge3/lib/python3.9/site-packages (from pgmpy) (3.2.1)\n",
      "Requirement already satisfied: numpy in /Users/vidyadharbendre/miniforge3/lib/python3.9/site-packages (from pgmpy) (1.24.1)\n",
      "Requirement already satisfied: scipy in /Users/vidyadharbendre/miniforge3/lib/python3.9/site-packages (from pgmpy) (1.13.0)\n",
      "Requirement already satisfied: scikit-learn in /Users/vidyadharbendre/miniforge3/lib/python3.9/site-packages (from pgmpy) (1.4.2)\n",
      "Requirement already satisfied: pandas in /Users/vidyadharbendre/miniforge3/lib/python3.9/site-packages (from pgmpy) (2.2.2)\n",
      "Requirement already satisfied: pyparsing in /Users/vidyadharbendre/miniforge3/lib/python3.9/site-packages (from pgmpy) (3.1.2)\n",
      "Requirement already satisfied: torch in /Users/vidyadharbendre/miniforge3/lib/python3.9/site-packages (from pgmpy) (2.4.0)\n",
      "Requirement already satisfied: statsmodels in /Users/vidyadharbendre/miniforge3/lib/python3.9/site-packages (from pgmpy) (0.13.2)\n",
      "Requirement already satisfied: tqdm in /Users/vidyadharbendre/miniforge3/lib/python3.9/site-packages (from pgmpy) (4.64.0)\n",
      "Requirement already satisfied: joblib in /Users/vidyadharbendre/miniforge3/lib/python3.9/site-packages (from pgmpy) (1.4.0)\n",
      "Requirement already satisfied: opt-einsum in /Users/vidyadharbendre/miniforge3/lib/python3.9/site-packages (from pgmpy) (3.3.0)\n",
      "Requirement already satisfied: python-dateutil>=2.8.2 in /Users/vidyadharbendre/miniforge3/lib/python3.9/site-packages (from pandas->pgmpy) (2.9.0)\n",
      "Requirement already satisfied: pytz>=2020.1 in /Users/vidyadharbendre/miniforge3/lib/python3.9/site-packages (from pandas->pgmpy) (2024.1)\n",
      "Requirement already satisfied: tzdata>=2022.7 in /Users/vidyadharbendre/miniforge3/lib/python3.9/site-packages (from pandas->pgmpy) (2024.1)\n",
      "Requirement already satisfied: threadpoolctl>=2.0.0 in /Users/vidyadharbendre/miniforge3/lib/python3.9/site-packages (from scikit-learn->pgmpy) (3.4.0)\n",
      "Requirement already satisfied: patsy>=0.5.2 in /Users/vidyadharbendre/miniforge3/lib/python3.9/site-packages (from statsmodels->pgmpy) (0.5.6)\n",
      "Requirement already satisfied: packaging>=21.3 in /Users/vidyadharbendre/miniforge3/lib/python3.9/site-packages (from statsmodels->pgmpy) (24.0)\n",
      "Requirement already satisfied: filelock in /Users/vidyadharbendre/miniforge3/lib/python3.9/site-packages (from torch->pgmpy) (3.13.4)\n",
      "Requirement already satisfied: typing-extensions>=4.8.0 in /Users/vidyadharbendre/miniforge3/lib/python3.9/site-packages (from torch->pgmpy) (4.11.0)\n",
      "Requirement already satisfied: sympy in /Users/vidyadharbendre/miniforge3/lib/python3.9/site-packages (from torch->pgmpy) (1.12)\n",
      "Requirement already satisfied: jinja2 in /Users/vidyadharbendre/miniforge3/lib/python3.9/site-packages (from torch->pgmpy) (3.1.3)\n",
      "Requirement already satisfied: fsspec in /Users/vidyadharbendre/miniforge3/lib/python3.9/site-packages (from torch->pgmpy) (2024.3.1)\n",
      "Requirement already satisfied: six in /Users/vidyadharbendre/miniforge3/lib/python3.9/site-packages (from patsy>=0.5.2->statsmodels->pgmpy) (1.15.0)\n",
      "Requirement already satisfied: MarkupSafe>=2.0 in /Users/vidyadharbendre/miniforge3/lib/python3.9/site-packages (from jinja2->torch->pgmpy) (2.1.5)\n",
      "Requirement already satisfied: mpmath>=0.19 in /Users/vidyadharbendre/miniforge3/lib/python3.9/site-packages (from sympy->torch->pgmpy) (1.3.0)\n",
      "Downloading pgmpy-0.1.25-py3-none-any.whl (2.0 MB)\n",
      "\u001b[2K   \u001b[90m━━━━━━━━━━━━━━━━━━━━━━━━━━━━━━━━━━━━━━━━\u001b[0m \u001b[32m2.0/2.0 MB\u001b[0m \u001b[31m19.3 kB/s\u001b[0m eta \u001b[36m0:00:00\u001b[0ma \u001b[36m0:00:07\u001b[0m\n",
      "\u001b[?25hInstalling collected packages: pgmpy\n",
      "Successfully installed pgmpy-0.1.25\n"
     ]
    }
   ],
   "source": [
    "!pip install pgmpy"
   ]
  },
  {
   "cell_type": "code",
   "execution_count": 7,
   "id": "7c06952b",
   "metadata": {},
   "outputs": [
    {
     "name": "stdout",
     "output_type": "stream",
     "text": [
      "['age' '52' '53' '70' '61' '62' '58' '55' '46' '54' '71' '43' '34' '51'\n",
      " '50' '60' '67' '45' '63' '42' '44' '56' '57' '59' '64' '65' '41' '66'\n",
      " '38' '49' '48' '29' '37' '47' '68' '76' '40' '39' '77' '69' '35' '74']\n",
      "['sex' '1' '0']\n"
     ]
    }
   ],
   "source": [
    "import pandas as pd\n",
    "\n",
    "# Define column names as per the dataset\n",
    "names = ['age', 'sex', 'cp', 'trestbps', 'chol', 'fbs', 'restecg', 'thalach', \n",
    "         'exang', 'oldpeak', 'slope', 'ca', 'thal', 'target']\n",
    "\n",
    "# Load the dataset\n",
    "heartDisease = pd.read_csv('heart.csv', names=names)\n",
    "\n",
    "# Replace missing values marked as '?'\n",
    "heartDisease = heartDisease.replace('?', np.nan)\n",
    "\n",
    "# Display unique values for 'age' and 'sex'\n",
    "print(heartDisease['age'].unique())\n",
    "print(heartDisease['sex'].unique())"
   ]
  },
  {
   "cell_type": "code",
   "execution_count": 11,
   "id": "43f3ed63",
   "metadata": {},
   "outputs": [
    {
     "name": "stdout",
     "output_type": "stream",
     "text": [
      "Probability Distribution for Heart Disease:\n",
      "+-----------+---------------+\n",
      "| target    |   phi(target) |\n",
      "+===========+===============+\n",
      "| target(0) |        0.3700 |\n",
      "+-----------+---------------+\n",
      "| target(1) |        0.6300 |\n",
      "+-----------+---------------+\n",
      "Values (Probabilities):\n",
      "[0.37001404 0.62998596]\n"
     ]
    }
   ],
   "source": [
    "import numpy as np\n",
    "import pandas as pd\n",
    "from pgmpy.inference import VariableElimination\n",
    "from pgmpy.models import BayesianNetwork\n",
    "from pgmpy.estimators import MaximumLikelihoodEstimator\n",
    "\n",
    "# Define column names as per the dataset\n",
    "names = ['age', 'sex', 'cp', 'trestbps', 'chol', 'fbs', 'restecg', 'thalach', \n",
    "         'exang', 'oldpeak', 'slope', 'ca', 'thal', 'target']\n",
    "\n",
    "# Load the dataset, skipping the header row provided by the 'names' parameter\n",
    "heartDisease = pd.read_csv('heart.csv', names=names, skiprows=1)\n",
    "\n",
    "# Replace missing values marked as '?'\n",
    "heartDisease = heartDisease.replace('?', np.nan)\n",
    "\n",
    "# Convert relevant columns to numeric types\n",
    "heartDisease['age'] = pd.to_numeric(heartDisease['age'])\n",
    "heartDisease['sex'] = pd.to_numeric(heartDisease['sex'])\n",
    "\n",
    "# Define the Bayesian Network structure\n",
    "model = BayesianNetwork([\n",
    "    ('age', 'trestbps'),\n",
    "    ('age', 'fbs'),\n",
    "    ('sex', 'trestbps'),\n",
    "    ('exang', 'trestbps'),\n",
    "    ('trestbps', 'target'),\n",
    "    ('fbs', 'target'),\n",
    "    ('target', 'restecg'),\n",
    "    ('target', 'thalach'),\n",
    "    ('target', 'chol')\n",
    "])\n",
    "\n",
    "# Train the model using Maximum Likelihood Estimator\n",
    "model.fit(heartDisease, estimator=MaximumLikelihoodEstimator)\n",
    "\n",
    "# Perform inference\n",
    "HeartDisease_infer = VariableElimination(model)\n",
    "\n",
    "# Query the model: Predict heart disease for a 37-year-old male\n",
    "q = HeartDisease_infer.query(variables=['target'], evidence={'age': 37, 'sex': 1})\n",
    "\n",
    "# Print the results\n",
    "print(\"Probability Distribution for Heart Disease:\")\n",
    "print(q)\n",
    "print(\"Values (Probabilities):\")\n",
    "print(q.values)  # Probabilities of each state of 'target'\n"
   ]
  },
  {
   "cell_type": "code",
   "execution_count": 12,
   "id": "c89a289a",
   "metadata": {},
   "outputs": [
    {
     "name": "stdout",
     "output_type": "stream",
     "text": [
      "Probability Distribution for Heart Disease:\n",
      "+-----------------+---------------------+\n",
      "| heartdisease    |   phi(heartdisease) |\n",
      "+=================+=====================+\n",
      "| heartdisease(0) |              0.4535 |\n",
      "+-----------------+---------------------+\n",
      "| heartdisease(1) |              0.5465 |\n",
      "+-----------------+---------------------+\n",
      "Values (Probabilities):\n",
      "[0.45346581 0.54653419]\n"
     ]
    }
   ],
   "source": [
    "import numpy as np\n",
    "import pandas as pd\n",
    "from pgmpy.models import BayesianNetwork\n",
    "from pgmpy.estimators import MaximumLikelihoodEstimator\n",
    "from pgmpy.inference import VariableElimination\n",
    "\n",
    "# Define column names as per the dataset\n",
    "names = ['age', 'sex', 'cp', 'trestbps', 'chol', 'fbs', 'restecg', 'thalach', \n",
    "         'exang', 'oldpeak', 'slope', 'ca', 'thal', 'heartdisease']\n",
    "\n",
    "# Load the dataset, skipping the header row provided by the 'names' parameter\n",
    "heartDisease = pd.read_csv('heart.csv', names=names, skiprows=1)\n",
    "\n",
    "# Replace missing values marked as '?'\n",
    "heartDisease = heartDisease.replace('?', np.nan)\n",
    "\n",
    "# Convert relevant columns to numeric types\n",
    "heartDisease = heartDisease.apply(pd.to_numeric, errors='coerce')\n",
    "\n",
    "# Define the Bayesian Network structure\n",
    "model = BayesianNetwork([\n",
    "    ('age', 'trestbps'),\n",
    "    ('age', 'fbs'),\n",
    "    ('sex', 'trestbps'),\n",
    "    ('exang', 'trestbps'),\n",
    "    ('trestbps', 'heartdisease'),\n",
    "    ('fbs', 'heartdisease'),\n",
    "    ('heartdisease', 'restecg'),\n",
    "    ('heartdisease', 'thalach'),\n",
    "    ('heartdisease', 'chol')\n",
    "])\n",
    "\n",
    "# Train the model using Maximum Likelihood Estimator\n",
    "model.fit(heartDisease, estimator=MaximumLikelihoodEstimator)\n",
    "\n",
    "# Perform inference\n",
    "HeartDisease_infer = VariableElimination(model)\n",
    "\n",
    "# Query the model: Predict heart disease for a 37-year-old male\n",
    "q = HeartDisease_infer.query(variables=['heartdisease'], evidence={'age': 37, 'sex': 0})\n",
    "\n",
    "# Print the results\n",
    "print(\"Probability Distribution for Heart Disease:\")\n",
    "print(q)\n",
    "print(\"Values (Probabilities):\")\n",
    "print(q.values)  # Probabilities of each state of 'heartdisease'"
   ]
  },
  {
   "cell_type": "code",
   "execution_count": null,
   "id": "700b07fb",
   "metadata": {},
   "outputs": [],
   "source": []
  }
 ],
 "metadata": {
  "kernelspec": {
   "display_name": "Python 3 (ipykernel)",
   "language": "python",
   "name": "python3"
  },
  "language_info": {
   "codemirror_mode": {
    "name": "ipython",
    "version": 3
   },
   "file_extension": ".py",
   "mimetype": "text/x-python",
   "name": "python",
   "nbconvert_exporter": "python",
   "pygments_lexer": "ipython3",
   "version": "3.9.16"
  }
 },
 "nbformat": 4,
 "nbformat_minor": 5
}
