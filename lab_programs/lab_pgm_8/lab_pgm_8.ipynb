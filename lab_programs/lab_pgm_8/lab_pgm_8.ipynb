{
 "cells": [
  {
   "cell_type": "markdown",
   "id": "2900c5f5",
   "metadata": {},
   "source": [
    "Aim: Demonstrate and analyse the results of classification based on KNN Algorithm.\n",
    "Program: Write a program to implement k-Nearest Neighbour algorithm to classify the iris data set. Print both correct and wrong predictions. Java/Python ML library classes can be used for this problem."
   ]
  },
  {
   "cell_type": "code",
   "execution_count": 1,
   "id": "d3739f69",
   "metadata": {},
   "outputs": [
    {
     "name": "stdout",
     "output_type": "stream",
     "text": [
      "Correct Predictions:\n",
      "Predicted: versicolor, Actual: versicolor, Features: [6.1 2.8 4.7 1.2]\n",
      "Predicted: setosa, Actual: setosa, Features: [5.7 3.8 1.7 0.3]\n",
      "Predicted: virginica, Actual: virginica, Features: [7.7 2.6 6.9 2.3]\n",
      "Predicted: versicolor, Actual: versicolor, Features: [6.  2.9 4.5 1.5]\n",
      "Predicted: versicolor, Actual: versicolor, Features: [6.8 2.8 4.8 1.4]\n",
      "Predicted: setosa, Actual: setosa, Features: [5.4 3.4 1.5 0.4]\n",
      "Predicted: versicolor, Actual: versicolor, Features: [5.6 2.9 3.6 1.3]\n",
      "Predicted: virginica, Actual: virginica, Features: [6.9 3.1 5.1 2.3]\n",
      "Predicted: versicolor, Actual: versicolor, Features: [6.2 2.2 4.5 1.5]\n",
      "Predicted: versicolor, Actual: versicolor, Features: [5.8 2.7 3.9 1.2]\n",
      "Predicted: virginica, Actual: virginica, Features: [6.5 3.2 5.1 2. ]\n",
      "Predicted: setosa, Actual: setosa, Features: [4.8 3.  1.4 0.1]\n",
      "Predicted: setosa, Actual: setosa, Features: [5.5 3.5 1.3 0.2]\n",
      "Predicted: setosa, Actual: setosa, Features: [4.9 3.1 1.5 0.1]\n",
      "Predicted: setosa, Actual: setosa, Features: [5.1 3.8 1.5 0.3]\n",
      "Predicted: versicolor, Actual: versicolor, Features: [6.3 3.3 4.7 1.6]\n",
      "Predicted: virginica, Actual: virginica, Features: [6.5 3.  5.8 2.2]\n",
      "Predicted: versicolor, Actual: versicolor, Features: [5.6 2.5 3.9 1.1]\n",
      "Predicted: versicolor, Actual: versicolor, Features: [5.7 2.8 4.5 1.3]\n",
      "Predicted: virginica, Actual: virginica, Features: [6.4 2.8 5.6 2.2]\n",
      "Predicted: setosa, Actual: setosa, Features: [4.7 3.2 1.6 0.2]\n",
      "Predicted: virginica, Actual: virginica, Features: [6.1 3.  4.9 1.8]\n",
      "Predicted: setosa, Actual: setosa, Features: [5.  3.4 1.6 0.4]\n",
      "Predicted: virginica, Actual: virginica, Features: [6.4 2.8 5.6 2.1]\n",
      "Predicted: virginica, Actual: virginica, Features: [7.9 3.8 6.4 2. ]\n",
      "Predicted: virginica, Actual: virginica, Features: [6.7 3.  5.2 2.3]\n",
      "Predicted: virginica, Actual: virginica, Features: [6.7 2.5 5.8 1.8]\n",
      "Predicted: virginica, Actual: virginica, Features: [6.8 3.2 5.9 2.3]\n",
      "Predicted: setosa, Actual: setosa, Features: [4.8 3.  1.4 0.3]\n",
      "Predicted: setosa, Actual: setosa, Features: [4.8 3.1 1.6 0.2]\n",
      "\n",
      "Wrong Predictions:\n",
      "\n",
      "Accuracy: 1.00\n"
     ]
    }
   ],
   "source": [
    "from sklearn.datasets import load_iris\n",
    "from sklearn.model_selection import train_test_split\n",
    "from sklearn.neighbors import KNeighborsClassifier\n",
    "from sklearn.metrics import accuracy_score\n",
    "\n",
    "# Load the Iris dataset\n",
    "iris = load_iris()\n",
    "X = iris.data\n",
    "y = iris.target\n",
    "\n",
    "# Split the dataset into training and testing sets\n",
    "X_train, X_test, y_train, y_test = train_test_split(X, y, test_size=0.2, random_state=42)\n",
    "\n",
    "# Initialize the k-NN classifier\n",
    "knn = KNeighborsClassifier(n_neighbors=3)\n",
    "\n",
    "# Fit the classifier to the training data\n",
    "knn.fit(X_train, y_train)\n",
    "\n",
    "# Predict the classes for the test set\n",
    "y_pred = knn.predict(X_test)\n",
    "\n",
    "# Print correct predictions\n",
    "print(\"Correct Predictions:\")\n",
    "for i in range(len(y_pred)):\n",
    "    if y_pred[i] == y_test[i]:\n",
    "        print(f\"Predicted: {iris.target_names[y_pred[i]]}, Actual: {iris.target_names[y_test[i]]}, Features: {X_test[i]}\")\n",
    "\n",
    "# Print wrong predictions\n",
    "print(\"\\nWrong Predictions:\")\n",
    "for i in range(len(y_pred)):\n",
    "    if y_pred[i] != y_test[i]:\n",
    "        print(f\"Predicted: {iris.target_names[y_pred[i]]}, Actual: {iris.target_names[y_test[i]]}, Features: {X_test[i]}\")\n",
    "\n",
    "# Print overall accuracy\n",
    "accuracy = accuracy_score(y_test, y_pred)\n",
    "print(f\"\\nAccuracy: {accuracy:.2f}\")"
   ]
  },
  {
   "cell_type": "code",
   "execution_count": null,
   "id": "5f1944b3",
   "metadata": {},
   "outputs": [],
   "source": []
  }
 ],
 "metadata": {
  "kernelspec": {
   "display_name": "Python 3 (ipykernel)",
   "language": "python",
   "name": "python3"
  },
  "language_info": {
   "codemirror_mode": {
    "name": "ipython",
    "version": 3
   },
   "file_extension": ".py",
   "mimetype": "text/x-python",
   "name": "python",
   "nbconvert_exporter": "python",
   "pygments_lexer": "ipython3",
   "version": "3.9.16"
  }
 },
 "nbformat": 4,
 "nbformat_minor": 5
}
