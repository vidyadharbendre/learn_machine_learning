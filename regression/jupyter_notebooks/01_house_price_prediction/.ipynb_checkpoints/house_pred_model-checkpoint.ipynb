{
 "cells": [
  {
   "cell_type": "code",
   "execution_count": 7,
   "id": "94884108",
   "metadata": {},
   "outputs": [],
   "source": [
    "# Import necessary libraries\n",
    "import pandas as pd\n",
    "import numpy as np\n",
    "import matplotlib.pyplot as plt\n",
    "import seaborn as sns"
   ]
  },
  {
   "cell_type": "code",
   "execution_count": 8,
   "id": "d3b13ec2",
   "metadata": {},
   "outputs": [],
   "source": [
    "# Set Pandas display options to show all columns\n",
    "pd.set_option('display.max_columns', None)"
   ]
  },
  {
   "cell_type": "code",
   "execution_count": 9,
   "id": "133fcb3a",
   "metadata": {},
   "outputs": [
    {
     "name": "stdout",
     "output_type": "stream",
     "text": [
      "Housing.csv            house_pred_model.ipynb\r\n"
     ]
    }
   ],
   "source": [
    "!ls"
   ]
  },
  {
   "cell_type": "code",
   "execution_count": 10,
   "id": "574d2113",
   "metadata": {},
   "outputs": [],
   "source": [
    "df = pd.read_csv('Housing.csv')"
   ]
  },
  {
   "cell_type": "raw",
   "id": "080a7ec6",
   "metadata": {},
   "source": [
    "1_1. df.shape is an attribute of a DataFrame object (df), and it is used to determine the dimensions of the DataFrame. \n",
    "It returns a tuple that represents the number of rows and columns in the DataFrame. \n",
    "\n",
    "The tuple has two elements:\n",
    "    The first element represents the number of rows.\n",
    "    The second element represents the number of columns."
   ]
  },
  {
   "cell_type": "code",
   "execution_count": 11,
   "id": "a40c9107",
   "metadata": {},
   "outputs": [
    {
     "data": {
      "text/plain": [
       "(545, 13)"
      ]
     },
     "execution_count": 11,
     "metadata": {},
     "output_type": "execute_result"
    }
   ],
   "source": [
    "#1_1. shape This is to know the number of rows and columns - shape of the data\n",
    "df.shape"
   ]
  },
  {
   "cell_type": "raw",
   "id": "90cc2918",
   "metadata": {},
   "source": [
    "1_2. In Python, when working with data using the pandas library, the df.info() method is used to obtain concise \n",
    "information about a DataFrame. It provides a summary of the DataFrame's structure and contents. \n",
    "\n",
    "When you call df.info(), it displays the following information:\n",
    "    Number of Non-Null Entries: This is the count of non-missing (non-null) values in each column. \n",
    "        It helps identify if there are missing values in the dataset.\n",
    "\n",
    "    Data Types: It shows the data type of each column. Data types include integers, floats, strings, and more. \n",
    "        This information helps you understand how the data is stored.\n",
    "\n",
    "    Memory Usage: The memory usage is the amount of memory consumed by the DataFrame. \n",
    "        This can be useful to optimize memory usage for large datasets."
   ]
  },
  {
   "cell_type": "code",
   "execution_count": 12,
   "id": "dd8c7182",
   "metadata": {},
   "outputs": [
    {
     "name": "stdout",
     "output_type": "stream",
     "text": [
      "<class 'pandas.core.frame.DataFrame'>\n",
      "RangeIndex: 545 entries, 0 to 544\n",
      "Data columns (total 13 columns):\n",
      " #   Column            Non-Null Count  Dtype \n",
      "---  ------            --------------  ----- \n",
      " 0   price             545 non-null    int64 \n",
      " 1   area              545 non-null    int64 \n",
      " 2   bedrooms          545 non-null    int64 \n",
      " 3   bathrooms         545 non-null    int64 \n",
      " 4   stories           545 non-null    int64 \n",
      " 5   mainroad          545 non-null    object\n",
      " 6   guestroom         545 non-null    object\n",
      " 7   basement          545 non-null    object\n",
      " 8   hotwaterheating   545 non-null    object\n",
      " 9   airconditioning   545 non-null    object\n",
      " 10  parking           545 non-null    int64 \n",
      " 11  prefarea          545 non-null    object\n",
      " 12  furnishingstatus  545 non-null    object\n",
      "dtypes: int64(6), object(7)\n",
      "memory usage: 55.5+ KB\n"
     ]
    }
   ],
   "source": [
    "#1_2. df.info(). This is know the number of non-null entries, # of columns, datatypes & memory usage\n",
    "df.info()"
   ]
  },
  {
   "cell_type": "markdown",
   "id": "5c31b180",
   "metadata": {},
   "source": [
    "This output provides you with an overview of the DataFrame, such as the number of rows and columns, the column \n",
    "names, the data types, and memory usage. \n",
    "It's a handy tool for quickly understanding the structure of your dataset and identifying any missing values or\n",
    "potential data type issues."
   ]
  },
  {
   "cell_type": "raw",
   "id": "a58dc1e8",
   "metadata": {},
   "source": [
    "1_3 - In Python, when working with data using the pandas library, the df.head() method is used to display the first few rows (by default, the first 5 rows) of a DataFrame. \n",
    "It's a convenient way to get a quick overview of your data and check what it looks like. \n",
    "This method helps you to inspect the structure and content of the DataFrame without displaying the entire \n",
    "dataset, which can be especially useful for large datasets.\n",
    "\n",
    "The df.head() method can take an optional integer parameter that specifies the number of rows to display. \n",
    "For example, if you want to see the first 10 rows of the DataFrame, you can call df.head(10)."
   ]
  },
  {
   "cell_type": "code",
   "execution_count": 13,
   "id": "64e65ed5",
   "metadata": {},
   "outputs": [
    {
     "data": {
      "text/html": [
       "<div>\n",
       "<style scoped>\n",
       "    .dataframe tbody tr th:only-of-type {\n",
       "        vertical-align: middle;\n",
       "    }\n",
       "\n",
       "    .dataframe tbody tr th {\n",
       "        vertical-align: top;\n",
       "    }\n",
       "\n",
       "    .dataframe thead th {\n",
       "        text-align: right;\n",
       "    }\n",
       "</style>\n",
       "<table border=\"1\" class=\"dataframe\">\n",
       "  <thead>\n",
       "    <tr style=\"text-align: right;\">\n",
       "      <th></th>\n",
       "      <th>price</th>\n",
       "      <th>area</th>\n",
       "      <th>bedrooms</th>\n",
       "      <th>bathrooms</th>\n",
       "      <th>stories</th>\n",
       "      <th>mainroad</th>\n",
       "      <th>guestroom</th>\n",
       "      <th>basement</th>\n",
       "      <th>hotwaterheating</th>\n",
       "      <th>airconditioning</th>\n",
       "      <th>parking</th>\n",
       "      <th>prefarea</th>\n",
       "      <th>furnishingstatus</th>\n",
       "    </tr>\n",
       "  </thead>\n",
       "  <tbody>\n",
       "    <tr>\n",
       "      <th>0</th>\n",
       "      <td>13300000</td>\n",
       "      <td>7420</td>\n",
       "      <td>4</td>\n",
       "      <td>2</td>\n",
       "      <td>3</td>\n",
       "      <td>yes</td>\n",
       "      <td>no</td>\n",
       "      <td>no</td>\n",
       "      <td>no</td>\n",
       "      <td>yes</td>\n",
       "      <td>2</td>\n",
       "      <td>yes</td>\n",
       "      <td>furnished</td>\n",
       "    </tr>\n",
       "    <tr>\n",
       "      <th>1</th>\n",
       "      <td>12250000</td>\n",
       "      <td>8960</td>\n",
       "      <td>4</td>\n",
       "      <td>4</td>\n",
       "      <td>4</td>\n",
       "      <td>yes</td>\n",
       "      <td>no</td>\n",
       "      <td>no</td>\n",
       "      <td>no</td>\n",
       "      <td>yes</td>\n",
       "      <td>3</td>\n",
       "      <td>no</td>\n",
       "      <td>furnished</td>\n",
       "    </tr>\n",
       "    <tr>\n",
       "      <th>2</th>\n",
       "      <td>12250000</td>\n",
       "      <td>9960</td>\n",
       "      <td>3</td>\n",
       "      <td>2</td>\n",
       "      <td>2</td>\n",
       "      <td>yes</td>\n",
       "      <td>no</td>\n",
       "      <td>yes</td>\n",
       "      <td>no</td>\n",
       "      <td>no</td>\n",
       "      <td>2</td>\n",
       "      <td>yes</td>\n",
       "      <td>semi-furnished</td>\n",
       "    </tr>\n",
       "    <tr>\n",
       "      <th>3</th>\n",
       "      <td>12215000</td>\n",
       "      <td>7500</td>\n",
       "      <td>4</td>\n",
       "      <td>2</td>\n",
       "      <td>2</td>\n",
       "      <td>yes</td>\n",
       "      <td>no</td>\n",
       "      <td>yes</td>\n",
       "      <td>no</td>\n",
       "      <td>yes</td>\n",
       "      <td>3</td>\n",
       "      <td>yes</td>\n",
       "      <td>furnished</td>\n",
       "    </tr>\n",
       "    <tr>\n",
       "      <th>4</th>\n",
       "      <td>11410000</td>\n",
       "      <td>7420</td>\n",
       "      <td>4</td>\n",
       "      <td>1</td>\n",
       "      <td>2</td>\n",
       "      <td>yes</td>\n",
       "      <td>yes</td>\n",
       "      <td>yes</td>\n",
       "      <td>no</td>\n",
       "      <td>yes</td>\n",
       "      <td>2</td>\n",
       "      <td>no</td>\n",
       "      <td>furnished</td>\n",
       "    </tr>\n",
       "  </tbody>\n",
       "</table>\n",
       "</div>"
      ],
      "text/plain": [
       "      price  area  bedrooms  bathrooms  stories mainroad guestroom basement  \\\n",
       "0  13300000  7420         4          2        3      yes        no       no   \n",
       "1  12250000  8960         4          4        4      yes        no       no   \n",
       "2  12250000  9960         3          2        2      yes        no      yes   \n",
       "3  12215000  7500         4          2        2      yes        no      yes   \n",
       "4  11410000  7420         4          1        2      yes       yes      yes   \n",
       "\n",
       "  hotwaterheating airconditioning  parking prefarea furnishingstatus  \n",
       "0              no             yes        2      yes        furnished  \n",
       "1              no             yes        3       no        furnished  \n",
       "2              no              no        2      yes   semi-furnished  \n",
       "3              no             yes        3      yes        furnished  \n",
       "4              no             yes        2       no        furnished  "
      ]
     },
     "execution_count": 13,
     "metadata": {},
     "output_type": "execute_result"
    }
   ],
   "source": [
    "#1_3 df.head() - This is used to display the first five records.\n",
    "df.head()"
   ]
  },
  {
   "cell_type": "raw",
   "id": "22485663",
   "metadata": {},
   "source": [
    "1.4 In Python, when working with pandas DataFrames, the df.head() method is used to display the first few rows of \n",
    "the DataFrame, and df.transpose() is used to transpose (swap rows and columns) the DataFrame. \n",
    "When you chain these two operations together like df.head().transpose(), you are first displaying the first \n",
    "few rows and then transposing that portion of the DataFrame.\n",
    "\n",
    "Here's how each part works:\n",
    "\n",
    "    df.head(): This method, as explained previously, returns the first few rows of the DataFrame \n",
    "    (by default, the first 5 rows). \n",
    "    It is used to inspect and display the initial part of the DataFrame.\n",
    "\n",
    "    df.transpose(): This method transposes the DataFrame, effectively swapping the rows and columns. \n",
    "    It's useful when you want to change the orientation of your data for easier analysis or visualization.\n",
    "\n",
    "When you chain these two methods together, you first obtain the first few rows of the DataFrame and then \n",
    "transpose them. \n",
    "\n",
    "This can be helpful when you want to take a closer look at the initial data points (rows) across different \n",
    "columns."
   ]
  },
  {
   "cell_type": "code",
   "execution_count": 14,
   "id": "f8c7a19b",
   "metadata": {},
   "outputs": [
    {
     "data": {
      "text/html": [
       "<div>\n",
       "<style scoped>\n",
       "    .dataframe tbody tr th:only-of-type {\n",
       "        vertical-align: middle;\n",
       "    }\n",
       "\n",
       "    .dataframe tbody tr th {\n",
       "        vertical-align: top;\n",
       "    }\n",
       "\n",
       "    .dataframe thead th {\n",
       "        text-align: right;\n",
       "    }\n",
       "</style>\n",
       "<table border=\"1\" class=\"dataframe\">\n",
       "  <thead>\n",
       "    <tr style=\"text-align: right;\">\n",
       "      <th></th>\n",
       "      <th>0</th>\n",
       "      <th>1</th>\n",
       "      <th>2</th>\n",
       "      <th>3</th>\n",
       "      <th>4</th>\n",
       "    </tr>\n",
       "  </thead>\n",
       "  <tbody>\n",
       "    <tr>\n",
       "      <th>price</th>\n",
       "      <td>13300000</td>\n",
       "      <td>12250000</td>\n",
       "      <td>12250000</td>\n",
       "      <td>12215000</td>\n",
       "      <td>11410000</td>\n",
       "    </tr>\n",
       "    <tr>\n",
       "      <th>area</th>\n",
       "      <td>7420</td>\n",
       "      <td>8960</td>\n",
       "      <td>9960</td>\n",
       "      <td>7500</td>\n",
       "      <td>7420</td>\n",
       "    </tr>\n",
       "    <tr>\n",
       "      <th>bedrooms</th>\n",
       "      <td>4</td>\n",
       "      <td>4</td>\n",
       "      <td>3</td>\n",
       "      <td>4</td>\n",
       "      <td>4</td>\n",
       "    </tr>\n",
       "    <tr>\n",
       "      <th>bathrooms</th>\n",
       "      <td>2</td>\n",
       "      <td>4</td>\n",
       "      <td>2</td>\n",
       "      <td>2</td>\n",
       "      <td>1</td>\n",
       "    </tr>\n",
       "    <tr>\n",
       "      <th>stories</th>\n",
       "      <td>3</td>\n",
       "      <td>4</td>\n",
       "      <td>2</td>\n",
       "      <td>2</td>\n",
       "      <td>2</td>\n",
       "    </tr>\n",
       "    <tr>\n",
       "      <th>mainroad</th>\n",
       "      <td>yes</td>\n",
       "      <td>yes</td>\n",
       "      <td>yes</td>\n",
       "      <td>yes</td>\n",
       "      <td>yes</td>\n",
       "    </tr>\n",
       "    <tr>\n",
       "      <th>guestroom</th>\n",
       "      <td>no</td>\n",
       "      <td>no</td>\n",
       "      <td>no</td>\n",
       "      <td>no</td>\n",
       "      <td>yes</td>\n",
       "    </tr>\n",
       "    <tr>\n",
       "      <th>basement</th>\n",
       "      <td>no</td>\n",
       "      <td>no</td>\n",
       "      <td>yes</td>\n",
       "      <td>yes</td>\n",
       "      <td>yes</td>\n",
       "    </tr>\n",
       "    <tr>\n",
       "      <th>hotwaterheating</th>\n",
       "      <td>no</td>\n",
       "      <td>no</td>\n",
       "      <td>no</td>\n",
       "      <td>no</td>\n",
       "      <td>no</td>\n",
       "    </tr>\n",
       "    <tr>\n",
       "      <th>airconditioning</th>\n",
       "      <td>yes</td>\n",
       "      <td>yes</td>\n",
       "      <td>no</td>\n",
       "      <td>yes</td>\n",
       "      <td>yes</td>\n",
       "    </tr>\n",
       "    <tr>\n",
       "      <th>parking</th>\n",
       "      <td>2</td>\n",
       "      <td>3</td>\n",
       "      <td>2</td>\n",
       "      <td>3</td>\n",
       "      <td>2</td>\n",
       "    </tr>\n",
       "    <tr>\n",
       "      <th>prefarea</th>\n",
       "      <td>yes</td>\n",
       "      <td>no</td>\n",
       "      <td>yes</td>\n",
       "      <td>yes</td>\n",
       "      <td>no</td>\n",
       "    </tr>\n",
       "    <tr>\n",
       "      <th>furnishingstatus</th>\n",
       "      <td>furnished</td>\n",
       "      <td>furnished</td>\n",
       "      <td>semi-furnished</td>\n",
       "      <td>furnished</td>\n",
       "      <td>furnished</td>\n",
       "    </tr>\n",
       "  </tbody>\n",
       "</table>\n",
       "</div>"
      ],
      "text/plain": [
       "                          0          1               2          3          4\n",
       "price              13300000   12250000        12250000   12215000   11410000\n",
       "area                   7420       8960            9960       7500       7420\n",
       "bedrooms                  4          4               3          4          4\n",
       "bathrooms                 2          4               2          2          1\n",
       "stories                   3          4               2          2          2\n",
       "mainroad                yes        yes             yes        yes        yes\n",
       "guestroom                no         no              no         no        yes\n",
       "basement                 no         no             yes        yes        yes\n",
       "hotwaterheating          no         no              no         no         no\n",
       "airconditioning         yes        yes              no        yes        yes\n",
       "parking                   2          3               2          3          2\n",
       "prefarea                yes         no             yes        yes         no\n",
       "furnishingstatus  furnished  furnished  semi-furnished  furnished  furnished"
      ]
     },
     "execution_count": 14,
     "metadata": {},
     "output_type": "execute_result"
    }
   ],
   "source": [
    "#1_4. df.head().transpose()\n",
    "\n",
    "df.head().transpose()"
   ]
  },
  {
   "cell_type": "markdown",
   "id": "b410dc39",
   "metadata": {},
   "source": [
    "In this above example, df.head() is applied to the DataFrame first, showing the first 5 rows. \n",
    "Then, df.transpose() is applied to the result, swapping the rows and columns of those 5 rows. \n",
    "This can be useful when you want to examine the initial data points across columns more closely."
   ]
  },
  {
   "cell_type": "raw",
   "id": "4c85e3b5",
   "metadata": {},
   "source": [
    "1_5. In pandas, the df.tail() method is used to display the last few rows of a DataFrame. \n",
    "By default, it displays the last 5 rows, but you can specify a different number of rows if needed.\n",
    "\n",
    "The purpose of using df.tail() is to inspect the end of a DataFrame, helping you to verify the data, \n",
    "identify trends, and understand any patterns that may exist in the last few rows."
   ]
  },
  {
   "cell_type": "code",
   "execution_count": 15,
   "id": "3d103ea2",
   "metadata": {},
   "outputs": [
    {
     "data": {
      "text/html": [
       "<div>\n",
       "<style scoped>\n",
       "    .dataframe tbody tr th:only-of-type {\n",
       "        vertical-align: middle;\n",
       "    }\n",
       "\n",
       "    .dataframe tbody tr th {\n",
       "        vertical-align: top;\n",
       "    }\n",
       "\n",
       "    .dataframe thead th {\n",
       "        text-align: right;\n",
       "    }\n",
       "</style>\n",
       "<table border=\"1\" class=\"dataframe\">\n",
       "  <thead>\n",
       "    <tr style=\"text-align: right;\">\n",
       "      <th></th>\n",
       "      <th>price</th>\n",
       "      <th>area</th>\n",
       "      <th>bedrooms</th>\n",
       "      <th>bathrooms</th>\n",
       "      <th>stories</th>\n",
       "      <th>mainroad</th>\n",
       "      <th>guestroom</th>\n",
       "      <th>basement</th>\n",
       "      <th>hotwaterheating</th>\n",
       "      <th>airconditioning</th>\n",
       "      <th>parking</th>\n",
       "      <th>prefarea</th>\n",
       "      <th>furnishingstatus</th>\n",
       "    </tr>\n",
       "  </thead>\n",
       "  <tbody>\n",
       "    <tr>\n",
       "      <th>540</th>\n",
       "      <td>1820000</td>\n",
       "      <td>3000</td>\n",
       "      <td>2</td>\n",
       "      <td>1</td>\n",
       "      <td>1</td>\n",
       "      <td>yes</td>\n",
       "      <td>no</td>\n",
       "      <td>yes</td>\n",
       "      <td>no</td>\n",
       "      <td>no</td>\n",
       "      <td>2</td>\n",
       "      <td>no</td>\n",
       "      <td>unfurnished</td>\n",
       "    </tr>\n",
       "    <tr>\n",
       "      <th>541</th>\n",
       "      <td>1767150</td>\n",
       "      <td>2400</td>\n",
       "      <td>3</td>\n",
       "      <td>1</td>\n",
       "      <td>1</td>\n",
       "      <td>no</td>\n",
       "      <td>no</td>\n",
       "      <td>no</td>\n",
       "      <td>no</td>\n",
       "      <td>no</td>\n",
       "      <td>0</td>\n",
       "      <td>no</td>\n",
       "      <td>semi-furnished</td>\n",
       "    </tr>\n",
       "    <tr>\n",
       "      <th>542</th>\n",
       "      <td>1750000</td>\n",
       "      <td>3620</td>\n",
       "      <td>2</td>\n",
       "      <td>1</td>\n",
       "      <td>1</td>\n",
       "      <td>yes</td>\n",
       "      <td>no</td>\n",
       "      <td>no</td>\n",
       "      <td>no</td>\n",
       "      <td>no</td>\n",
       "      <td>0</td>\n",
       "      <td>no</td>\n",
       "      <td>unfurnished</td>\n",
       "    </tr>\n",
       "    <tr>\n",
       "      <th>543</th>\n",
       "      <td>1750000</td>\n",
       "      <td>2910</td>\n",
       "      <td>3</td>\n",
       "      <td>1</td>\n",
       "      <td>1</td>\n",
       "      <td>no</td>\n",
       "      <td>no</td>\n",
       "      <td>no</td>\n",
       "      <td>no</td>\n",
       "      <td>no</td>\n",
       "      <td>0</td>\n",
       "      <td>no</td>\n",
       "      <td>furnished</td>\n",
       "    </tr>\n",
       "    <tr>\n",
       "      <th>544</th>\n",
       "      <td>1750000</td>\n",
       "      <td>3850</td>\n",
       "      <td>3</td>\n",
       "      <td>1</td>\n",
       "      <td>2</td>\n",
       "      <td>yes</td>\n",
       "      <td>no</td>\n",
       "      <td>no</td>\n",
       "      <td>no</td>\n",
       "      <td>no</td>\n",
       "      <td>0</td>\n",
       "      <td>no</td>\n",
       "      <td>unfurnished</td>\n",
       "    </tr>\n",
       "  </tbody>\n",
       "</table>\n",
       "</div>"
      ],
      "text/plain": [
       "       price  area  bedrooms  bathrooms  stories mainroad guestroom basement  \\\n",
       "540  1820000  3000         2          1        1      yes        no      yes   \n",
       "541  1767150  2400         3          1        1       no        no       no   \n",
       "542  1750000  3620         2          1        1      yes        no       no   \n",
       "543  1750000  2910         3          1        1       no        no       no   \n",
       "544  1750000  3850         3          1        2      yes        no       no   \n",
       "\n",
       "    hotwaterheating airconditioning  parking prefarea furnishingstatus  \n",
       "540              no              no        2       no      unfurnished  \n",
       "541              no              no        0       no   semi-furnished  \n",
       "542              no              no        0       no      unfurnished  \n",
       "543              no              no        0       no        furnished  \n",
       "544              no              no        0       no      unfurnished  "
      ]
     },
     "execution_count": 15,
     "metadata": {},
     "output_type": "execute_result"
    }
   ],
   "source": [
    "#1_5 df.tail - displays the bottom 5 rows\n",
    "df.tail()"
   ]
  },
  {
   "cell_type": "markdown",
   "id": "05c49a51",
   "metadata": {},
   "source": [
    "We can adjust the number of rows displayed by passing the desired number as an argument to df.tail(). \n",
    "For example, df.tail(10) would show the last 10 rows of the DataFrame, and \n",
    "df.tail(1) would display only the very last row."
   ]
  },
  {
   "cell_type": "raw",
   "id": "78bc36ee",
   "metadata": {},
   "source": [
    "1_6. In Python, when working with data using the pandas library, the df.describe() method provides a summary of the \n",
    "basic statistical measures for each numeric (int or float) column in a DataFrame. \n",
    "\n",
    "This summary is often referred to as the \"Five Number Summary.\" It includes the following five statistical \n",
    "measures:\n",
    "\n",
    "    Count: The number of non-null (non-missing) values in the column.\n",
    "\n",
    "    Mean (Average): The average value of the data in the column.\n",
    "\n",
    "    Standard Deviation (std): A measure of how spread out the values are. A smaller standard deviation \n",
    "        indicates that the values tend to be closer to the mean, while a larger standard deviation indicates greater variability.\n",
    "\n",
    "    Minimum (min): The minimum (smallest) value in the column.\n",
    "\n",
    "    25th Percentile (25%): Also known as the first quartile (Q1), it represents the value below which 25% of \n",
    "        the data falls.\n",
    "\n",
    "    Median (50%): Also known as the second quartile (Q2) or the median, it is the middle value of the data. \n",
    "        It separates the lower 50% of data from the upper 50%.\n",
    "\n",
    "    75th Percentile (75%): Also known as the third quartile (Q3), it represents the value below which 75% of the\n",
    "        data falls.\n",
    "\n",
    "    Maximum (max): The maximum (largest) value in the column."
   ]
  },
  {
   "cell_type": "code",
   "execution_count": 16,
   "id": "4bc99637",
   "metadata": {},
   "outputs": [
    {
     "data": {
      "text/html": [
       "<div>\n",
       "<style scoped>\n",
       "    .dataframe tbody tr th:only-of-type {\n",
       "        vertical-align: middle;\n",
       "    }\n",
       "\n",
       "    .dataframe tbody tr th {\n",
       "        vertical-align: top;\n",
       "    }\n",
       "\n",
       "    .dataframe thead th {\n",
       "        text-align: right;\n",
       "    }\n",
       "</style>\n",
       "<table border=\"1\" class=\"dataframe\">\n",
       "  <thead>\n",
       "    <tr style=\"text-align: right;\">\n",
       "      <th></th>\n",
       "      <th>price</th>\n",
       "      <th>area</th>\n",
       "      <th>bedrooms</th>\n",
       "      <th>bathrooms</th>\n",
       "      <th>stories</th>\n",
       "      <th>parking</th>\n",
       "    </tr>\n",
       "  </thead>\n",
       "  <tbody>\n",
       "    <tr>\n",
       "      <th>count</th>\n",
       "      <td>5.450000e+02</td>\n",
       "      <td>545.000000</td>\n",
       "      <td>545.000000</td>\n",
       "      <td>545.000000</td>\n",
       "      <td>545.000000</td>\n",
       "      <td>545.000000</td>\n",
       "    </tr>\n",
       "    <tr>\n",
       "      <th>mean</th>\n",
       "      <td>4.766729e+06</td>\n",
       "      <td>5150.541284</td>\n",
       "      <td>2.965138</td>\n",
       "      <td>1.286239</td>\n",
       "      <td>1.805505</td>\n",
       "      <td>0.693578</td>\n",
       "    </tr>\n",
       "    <tr>\n",
       "      <th>std</th>\n",
       "      <td>1.870440e+06</td>\n",
       "      <td>2170.141023</td>\n",
       "      <td>0.738064</td>\n",
       "      <td>0.502470</td>\n",
       "      <td>0.867492</td>\n",
       "      <td>0.861586</td>\n",
       "    </tr>\n",
       "    <tr>\n",
       "      <th>min</th>\n",
       "      <td>1.750000e+06</td>\n",
       "      <td>1650.000000</td>\n",
       "      <td>1.000000</td>\n",
       "      <td>1.000000</td>\n",
       "      <td>1.000000</td>\n",
       "      <td>0.000000</td>\n",
       "    </tr>\n",
       "    <tr>\n",
       "      <th>25%</th>\n",
       "      <td>3.430000e+06</td>\n",
       "      <td>3600.000000</td>\n",
       "      <td>2.000000</td>\n",
       "      <td>1.000000</td>\n",
       "      <td>1.000000</td>\n",
       "      <td>0.000000</td>\n",
       "    </tr>\n",
       "    <tr>\n",
       "      <th>50%</th>\n",
       "      <td>4.340000e+06</td>\n",
       "      <td>4600.000000</td>\n",
       "      <td>3.000000</td>\n",
       "      <td>1.000000</td>\n",
       "      <td>2.000000</td>\n",
       "      <td>0.000000</td>\n",
       "    </tr>\n",
       "    <tr>\n",
       "      <th>75%</th>\n",
       "      <td>5.740000e+06</td>\n",
       "      <td>6360.000000</td>\n",
       "      <td>3.000000</td>\n",
       "      <td>2.000000</td>\n",
       "      <td>2.000000</td>\n",
       "      <td>1.000000</td>\n",
       "    </tr>\n",
       "    <tr>\n",
       "      <th>max</th>\n",
       "      <td>1.330000e+07</td>\n",
       "      <td>16200.000000</td>\n",
       "      <td>6.000000</td>\n",
       "      <td>4.000000</td>\n",
       "      <td>4.000000</td>\n",
       "      <td>3.000000</td>\n",
       "    </tr>\n",
       "  </tbody>\n",
       "</table>\n",
       "</div>"
      ],
      "text/plain": [
       "              price          area    bedrooms   bathrooms     stories  \\\n",
       "count  5.450000e+02    545.000000  545.000000  545.000000  545.000000   \n",
       "mean   4.766729e+06   5150.541284    2.965138    1.286239    1.805505   \n",
       "std    1.870440e+06   2170.141023    0.738064    0.502470    0.867492   \n",
       "min    1.750000e+06   1650.000000    1.000000    1.000000    1.000000   \n",
       "25%    3.430000e+06   3600.000000    2.000000    1.000000    1.000000   \n",
       "50%    4.340000e+06   4600.000000    3.000000    1.000000    2.000000   \n",
       "75%    5.740000e+06   6360.000000    3.000000    2.000000    2.000000   \n",
       "max    1.330000e+07  16200.000000    6.000000    4.000000    4.000000   \n",
       "\n",
       "          parking  \n",
       "count  545.000000  \n",
       "mean     0.693578  \n",
       "std      0.861586  \n",
       "min      0.000000  \n",
       "25%      0.000000  \n",
       "50%      0.000000  \n",
       "75%      1.000000  \n",
       "max      3.000000  "
      ]
     },
     "execution_count": 16,
     "metadata": {},
     "output_type": "execute_result"
    }
   ],
   "source": [
    "#1_6. Five point summary - df.describe()/include = object for categorical - Five Point Summary: mean, std, max, min\n",
    "df.describe()"
   ]
  },
  {
   "cell_type": "markdown",
   "id": "cbb95673",
   "metadata": {},
   "source": [
    "This summary is helpful for understanding the central tendency, spread, and distribution of the numeric data in\n",
    "the DataFrame. \n",
    "It provides insights into the dataset's characteristics, which can be useful for data analysis and exploration."
   ]
  },
  {
   "cell_type": "code",
   "execution_count": 17,
   "id": "2a50d7a5",
   "metadata": {},
   "outputs": [
    {
     "data": {
      "text/html": [
       "<div>\n",
       "<style scoped>\n",
       "    .dataframe tbody tr th:only-of-type {\n",
       "        vertical-align: middle;\n",
       "    }\n",
       "\n",
       "    .dataframe tbody tr th {\n",
       "        vertical-align: top;\n",
       "    }\n",
       "\n",
       "    .dataframe thead th {\n",
       "        text-align: right;\n",
       "    }\n",
       "</style>\n",
       "<table border=\"1\" class=\"dataframe\">\n",
       "  <thead>\n",
       "    <tr style=\"text-align: right;\">\n",
       "      <th></th>\n",
       "      <th>mainroad</th>\n",
       "      <th>guestroom</th>\n",
       "      <th>basement</th>\n",
       "      <th>hotwaterheating</th>\n",
       "      <th>airconditioning</th>\n",
       "      <th>prefarea</th>\n",
       "      <th>furnishingstatus</th>\n",
       "    </tr>\n",
       "  </thead>\n",
       "  <tbody>\n",
       "    <tr>\n",
       "      <th>count</th>\n",
       "      <td>545</td>\n",
       "      <td>545</td>\n",
       "      <td>545</td>\n",
       "      <td>545</td>\n",
       "      <td>545</td>\n",
       "      <td>545</td>\n",
       "      <td>545</td>\n",
       "    </tr>\n",
       "    <tr>\n",
       "      <th>unique</th>\n",
       "      <td>2</td>\n",
       "      <td>2</td>\n",
       "      <td>2</td>\n",
       "      <td>2</td>\n",
       "      <td>2</td>\n",
       "      <td>2</td>\n",
       "      <td>3</td>\n",
       "    </tr>\n",
       "    <tr>\n",
       "      <th>top</th>\n",
       "      <td>yes</td>\n",
       "      <td>no</td>\n",
       "      <td>no</td>\n",
       "      <td>no</td>\n",
       "      <td>no</td>\n",
       "      <td>no</td>\n",
       "      <td>semi-furnished</td>\n",
       "    </tr>\n",
       "    <tr>\n",
       "      <th>freq</th>\n",
       "      <td>468</td>\n",
       "      <td>448</td>\n",
       "      <td>354</td>\n",
       "      <td>520</td>\n",
       "      <td>373</td>\n",
       "      <td>417</td>\n",
       "      <td>227</td>\n",
       "    </tr>\n",
       "  </tbody>\n",
       "</table>\n",
       "</div>"
      ],
      "text/plain": [
       "       mainroad guestroom basement hotwaterheating airconditioning prefarea  \\\n",
       "count       545       545      545             545             545      545   \n",
       "unique        2         2        2               2               2        2   \n",
       "top         yes        no       no              no              no       no   \n",
       "freq        468       448      354             520             373      417   \n",
       "\n",
       "       furnishingstatus  \n",
       "count               545  \n",
       "unique                3  \n",
       "top      semi-furnished  \n",
       "freq                227  "
      ]
     },
     "execution_count": 17,
     "metadata": {},
     "output_type": "execute_result"
    }
   ],
   "source": [
    "#1_7. Five point summary for categorical columns\n",
    "df.describe(include=object)"
   ]
  },
  {
   "cell_type": "code",
   "execution_count": 18,
   "id": "953b92e2",
   "metadata": {},
   "outputs": [
    {
     "data": {
      "text/html": [
       "<div>\n",
       "<style scoped>\n",
       "    .dataframe tbody tr th:only-of-type {\n",
       "        vertical-align: middle;\n",
       "    }\n",
       "\n",
       "    .dataframe tbody tr th {\n",
       "        vertical-align: top;\n",
       "    }\n",
       "\n",
       "    .dataframe thead th {\n",
       "        text-align: right;\n",
       "    }\n",
       "</style>\n",
       "<table border=\"1\" class=\"dataframe\">\n",
       "  <thead>\n",
       "    <tr style=\"text-align: right;\">\n",
       "      <th></th>\n",
       "      <th>mainroad</th>\n",
       "      <th>guestroom</th>\n",
       "      <th>basement</th>\n",
       "      <th>hotwaterheating</th>\n",
       "      <th>airconditioning</th>\n",
       "      <th>prefarea</th>\n",
       "      <th>furnishingstatus</th>\n",
       "    </tr>\n",
       "  </thead>\n",
       "  <tbody>\n",
       "    <tr>\n",
       "      <th>count</th>\n",
       "      <td>545</td>\n",
       "      <td>545</td>\n",
       "      <td>545</td>\n",
       "      <td>545</td>\n",
       "      <td>545</td>\n",
       "      <td>545</td>\n",
       "      <td>545</td>\n",
       "    </tr>\n",
       "    <tr>\n",
       "      <th>unique</th>\n",
       "      <td>2</td>\n",
       "      <td>2</td>\n",
       "      <td>2</td>\n",
       "      <td>2</td>\n",
       "      <td>2</td>\n",
       "      <td>2</td>\n",
       "      <td>3</td>\n",
       "    </tr>\n",
       "    <tr>\n",
       "      <th>top</th>\n",
       "      <td>yes</td>\n",
       "      <td>no</td>\n",
       "      <td>no</td>\n",
       "      <td>no</td>\n",
       "      <td>no</td>\n",
       "      <td>no</td>\n",
       "      <td>semi-furnished</td>\n",
       "    </tr>\n",
       "    <tr>\n",
       "      <th>freq</th>\n",
       "      <td>468</td>\n",
       "      <td>448</td>\n",
       "      <td>354</td>\n",
       "      <td>520</td>\n",
       "      <td>373</td>\n",
       "      <td>417</td>\n",
       "      <td>227</td>\n",
       "    </tr>\n",
       "  </tbody>\n",
       "</table>\n",
       "</div>"
      ],
      "text/plain": [
       "       mainroad guestroom basement hotwaterheating airconditioning prefarea  \\\n",
       "count       545       545      545             545             545      545   \n",
       "unique        2         2        2               2               2        2   \n",
       "top         yes        no       no              no              no       no   \n",
       "freq        468       448      354             520             373      417   \n",
       "\n",
       "       furnishingstatus  \n",
       "count               545  \n",
       "unique                3  \n",
       "top      semi-furnished  \n",
       "freq                227  "
      ]
     },
     "execution_count": 18,
     "metadata": {},
     "output_type": "execute_result"
    }
   ],
   "source": [
    "#1_7. Five point summary for categorical columns\n",
    "df.describe(exclude=np.number)"
   ]
  },
  {
   "cell_type": "code",
   "execution_count": 19,
   "id": "5c442f80",
   "metadata": {},
   "outputs": [],
   "source": [
    "#2_1.Type Casting (astype) "
   ]
  },
  {
   "cell_type": "raw",
   "id": "a683cfc8",
   "metadata": {},
   "source": [
    "#3 - Missing Value Treatment\n",
    "\n",
    "Dealing with missing values is a crucial part of data preprocessing in Python, especially when working with \n",
    "real-world datasets. Missing values can arise for various reasons, including data entry errors, sensor \n",
    "malfunctions, or simply because information wasn't collected for a particular data point. Handling these \n",
    "missing values appropriately is essential for accurate data analysis and modeling. \n",
    "\n",
    "Here are common techniques for missing value treatment:\n",
    "    \n",
    "#3_1 - Detecting Missing Values\n",
    "#3_2 - Handling Missing Values\n",
    "    3_2_1 - Removing rows\n",
    "    3_2_2 - Filling with a Specific Value\n",
    "    3_2_3 - Imputation\n",
    "    3_2_4 - Forward Fill or Backward Fill\n",
    "    3_2_5 - Interpolation\n",
    "    3_2_6 - Advanced Techniques (Power Transformer)\n",
    "    \n",
    "#3_3_1 - Handling Categorical Missing Values\n",
    "#3_4_1 - \n"
   ]
  },
  {
   "cell_type": "raw",
   "id": "56791e13",
   "metadata": {},
   "source": [
    "#3_1 - Detecting Missing Values\n",
    "Before addressing missing values, you need to identify where they exist in your dataset. Common ways to detect \n",
    "missing values include:\n",
    "\n",
    "Using the .isnull() or .isna() method to identify missing values. These methods return a DataFrame of the same \n",
    "shape with Boolean values indicating the presence of missing values.\n",
    "\n",
    "The .info() method can provide a summary of the missing values in each column.\n",
    "The .describe() method can help you identify missing values if you look for inconsistencies in count compared \n",
    "to other statistics (like mean and standard deviation)."
   ]
  },
  {
   "cell_type": "code",
   "execution_count": 20,
   "id": "42b3eed8",
   "metadata": {},
   "outputs": [
    {
     "data": {
      "text/plain": [
       "price               0\n",
       "area                0\n",
       "bedrooms            0\n",
       "bathrooms           0\n",
       "stories             0\n",
       "mainroad            0\n",
       "guestroom           0\n",
       "basement            0\n",
       "hotwaterheating     0\n",
       "airconditioning     0\n",
       "parking             0\n",
       "prefarea            0\n",
       "furnishingstatus    0\n",
       "dtype: int64"
      ]
     },
     "execution_count": 20,
     "metadata": {},
     "output_type": "execute_result"
    }
   ],
   "source": [
    "#3_1 -  use isnull() to check for missing values\n",
    "# sum(): gives the sum of missing values in each column\n",
    "missing_values = df.isnull().sum()\n",
    "\n",
    "# print the missing values\n",
    "missing_values"
   ]
  },
  {
   "cell_type": "code",
   "execution_count": 21,
   "id": "664919be",
   "metadata": {},
   "outputs": [
    {
     "data": {
      "text/html": [
       "<div>\n",
       "<style scoped>\n",
       "    .dataframe tbody tr th:only-of-type {\n",
       "        vertical-align: middle;\n",
       "    }\n",
       "\n",
       "    .dataframe tbody tr th {\n",
       "        vertical-align: top;\n",
       "    }\n",
       "\n",
       "    .dataframe thead th {\n",
       "        text-align: right;\n",
       "    }\n",
       "</style>\n",
       "<table border=\"1\" class=\"dataframe\">\n",
       "  <thead>\n",
       "    <tr style=\"text-align: right;\">\n",
       "      <th></th>\n",
       "      <th>Total</th>\n",
       "      <th>Percent</th>\n",
       "      <th>Type</th>\n",
       "    </tr>\n",
       "  </thead>\n",
       "  <tbody>\n",
       "    <tr>\n",
       "      <th>price</th>\n",
       "      <td>0</td>\n",
       "      <td>0.0</td>\n",
       "      <td>int64</td>\n",
       "    </tr>\n",
       "    <tr>\n",
       "      <th>area</th>\n",
       "      <td>0</td>\n",
       "      <td>0.0</td>\n",
       "      <td>int64</td>\n",
       "    </tr>\n",
       "    <tr>\n",
       "      <th>bedrooms</th>\n",
       "      <td>0</td>\n",
       "      <td>0.0</td>\n",
       "      <td>int64</td>\n",
       "    </tr>\n",
       "    <tr>\n",
       "      <th>bathrooms</th>\n",
       "      <td>0</td>\n",
       "      <td>0.0</td>\n",
       "      <td>int64</td>\n",
       "    </tr>\n",
       "    <tr>\n",
       "      <th>stories</th>\n",
       "      <td>0</td>\n",
       "      <td>0.0</td>\n",
       "      <td>int64</td>\n",
       "    </tr>\n",
       "    <tr>\n",
       "      <th>mainroad</th>\n",
       "      <td>0</td>\n",
       "      <td>0.0</td>\n",
       "      <td>object</td>\n",
       "    </tr>\n",
       "    <tr>\n",
       "      <th>guestroom</th>\n",
       "      <td>0</td>\n",
       "      <td>0.0</td>\n",
       "      <td>object</td>\n",
       "    </tr>\n",
       "    <tr>\n",
       "      <th>basement</th>\n",
       "      <td>0</td>\n",
       "      <td>0.0</td>\n",
       "      <td>object</td>\n",
       "    </tr>\n",
       "    <tr>\n",
       "      <th>hotwaterheating</th>\n",
       "      <td>0</td>\n",
       "      <td>0.0</td>\n",
       "      <td>object</td>\n",
       "    </tr>\n",
       "    <tr>\n",
       "      <th>airconditioning</th>\n",
       "      <td>0</td>\n",
       "      <td>0.0</td>\n",
       "      <td>object</td>\n",
       "    </tr>\n",
       "    <tr>\n",
       "      <th>parking</th>\n",
       "      <td>0</td>\n",
       "      <td>0.0</td>\n",
       "      <td>int64</td>\n",
       "    </tr>\n",
       "    <tr>\n",
       "      <th>prefarea</th>\n",
       "      <td>0</td>\n",
       "      <td>0.0</td>\n",
       "      <td>object</td>\n",
       "    </tr>\n",
       "    <tr>\n",
       "      <th>furnishingstatus</th>\n",
       "      <td>0</td>\n",
       "      <td>0.0</td>\n",
       "      <td>object</td>\n",
       "    </tr>\n",
       "  </tbody>\n",
       "</table>\n",
       "</div>"
      ],
      "text/plain": [
       "                  Total  Percent    Type\n",
       "price                 0      0.0   int64\n",
       "area                  0      0.0   int64\n",
       "bedrooms              0      0.0   int64\n",
       "bathrooms             0      0.0   int64\n",
       "stories               0      0.0   int64\n",
       "mainroad              0      0.0  object\n",
       "guestroom             0      0.0  object\n",
       "basement              0      0.0  object\n",
       "hotwaterheating       0      0.0  object\n",
       "airconditioning       0      0.0  object\n",
       "parking               0      0.0   int64\n",
       "prefarea              0      0.0  object\n",
       "furnishingstatus      0      0.0  object"
      ]
     },
     "execution_count": 21,
     "metadata": {},
     "output_type": "execute_result"
    }
   ],
   "source": [
    "# get the count of missing values\n",
    "missing_values = df.isnull().sum()\n",
    "\n",
    "# check for missing values\n",
    "total = df.isnull().sum().sort_values(ascending=False)\n",
    "\n",
    "# calculate percentage of the missing values\n",
    "percent = ((df.isnull().sum()/df.shape[0])*100)\n",
    "\n",
    "# sort the values in descending order\n",
    "# ascending: \n",
    "percent = percent.sort_values(ascending=False)\n",
    "\n",
    "# concatenate the total missing values and percentage of the missing values\n",
    "missing_data = pd.concat([total, percent], axis=1, keys=['Total', 'Percent'])\n",
    "\n",
    "# add the data types\n",
    "missing_data['Type'] = df[missing_data.index].dtypes\n",
    "\n",
    "# view the missing data\n",
    "missing_data"
   ]
  },
  {
   "cell_type": "raw",
   "id": "fb804562",
   "metadata": {},
   "source": [
    "#3_2 - Handling Missing Values:\n",
    "\n",
    "Once you've identified missing values, you can choose from several strategies for handling them:"
   ]
  },
  {
   "cell_type": "raw",
   "id": "77d08673",
   "metadata": {},
   "source": [
    "#3_2_1 - We can remove rows that contain missing values using the .dropna() method. This can be effective if you have a relatively small number of missing values.\n",
    "\n",
    "df.dropna(inplace=True)"
   ]
  },
  {
   "cell_type": "raw",
   "id": "faf73b8b",
   "metadata": {},
   "source": [
    "#3_2_2 - Filling with a Specific Value: You can fill missing values with a specific value using .fillna(). This approach is suitable when you have a good understanding of the data and want to replace missing values with a relevant placeholder (e.g., zero, mean, or median).\n",
    "\n",
    "df['column_name'].fillna(value, inplace=True)"
   ]
  },
  {
   "cell_type": "raw",
   "id": "8e79a342",
   "metadata": {},
   "source": [
    "#3_2_3 - Imputation: Imputation involves filling missing values using a statistical approach. Common imputation methods include replacing missing values with the mean, median, or mode of the column.\n",
    "\n",
    "mean_value = df['column_name'].mean()\n",
    "df['column_name'].fillna(mean_value, inplace=True)"
   ]
  },
  {
   "cell_type": "raw",
   "id": "643a9bb9",
   "metadata": {},
   "source": [
    "#3_2_4 - Forward Fill or Backward Fill: In time-series data, you can use forward fill (ffill) or backward fill (bfill) to propagate the last known value forward or backward in the series.\n",
    "\n",
    "df.fillna(method='ffill', inplace=True)"
   ]
  },
  {
   "cell_type": "raw",
   "id": "6c334ecb",
   "metadata": {},
   "source": [
    "#3_2_5 - Interpolation: Interpolation techniques estimate missing values based on the surrounding data points, which can be useful when dealing with time-series data or ordered data.\n",
    "\n",
    "df['column_name'].interpolate(method='linear', inplace=True)"
   ]
  },
  {
   "cell_type": "raw",
   "id": "55284a4d",
   "metadata": {},
   "source": [
    "#3_2_5 - Advanced Techniques: Machine learning models can be used to predict and impute missing values based on other features. These methods are more advanced and may require additional libraries, such as scikit-learn or fancyimpute."
   ]
  },
  {
   "cell_type": "raw",
   "id": "49ad18e2",
   "metadata": {},
   "source": [
    "#3_3 - Handling Categorical Missing Values - When dealing with missing values in categorical data, you can treat them as a separate category or replace them with the mode (most frequent category).\n",
    "\n",
    "df['categorical_column'].fillna('Missing', inplace=True)"
   ]
  },
  {
   "cell_type": "raw",
   "id": "4e849821",
   "metadata": {},
   "source": [
    "#3_4 - Dropping Columns - If a column has a significant number of missing values and doesn't contribute meaningfully to your analysis, you may consider dropping the entire column.\n",
    "\n",
    "df.drop('column_name', axis=1, inplace=True)"
   ]
  },
  {
   "cell_type": "raw",
   "id": "2d5e1a44",
   "metadata": {},
   "source": [
    "It's essential to choose the appropriate missing value treatment strategy based on the nature of your data and the specific requirements of your analysis. Additionally, consider the impact of your chosen strategy on the quality and integrity of your data. Data preprocessing is an essential step in data analysis, and how you handle missing values can significantly impact the results of your analysis and modeling.\n"
   ]
  },
  {
   "cell_type": "code",
   "execution_count": 22,
   "id": "a02c6f69",
   "metadata": {},
   "outputs": [
    {
     "name": "stdout",
     "output_type": "stream",
     "text": [
      "Categories in mainroad: ['yes' 'no']\n"
     ]
    }
   ],
   "source": [
    "# check the categories of the variable 'mainroad' \n",
    "print('Categories in mainroad:', df.mainroad.unique())"
   ]
  },
  {
   "cell_type": "code",
   "execution_count": 23,
   "id": "4aac5e07",
   "metadata": {},
   "outputs": [
    {
     "data": {
      "text/plain": [
       "yes    468\n",
       "no      77\n",
       "Name: mainroad, dtype: int64"
      ]
     },
     "execution_count": 23,
     "metadata": {},
     "output_type": "execute_result"
    }
   ],
   "source": [
    "df.mainroad.value_counts()"
   ]
  },
  {
   "cell_type": "code",
   "execution_count": 24,
   "id": "7a4874ad",
   "metadata": {},
   "outputs": [
    {
     "name": "stdout",
     "output_type": "stream",
     "text": [
      "Categories in guestroom: ['no' 'yes']\n"
     ]
    }
   ],
   "source": [
    "# check the categories of the variable 'guestroom' \n",
    "print('Categories in guestroom:', df.guestroom.unique())"
   ]
  },
  {
   "cell_type": "code",
   "execution_count": 25,
   "id": "0077c149",
   "metadata": {},
   "outputs": [
    {
     "data": {
      "text/plain": [
       "no     448\n",
       "yes     97\n",
       "Name: guestroom, dtype: int64"
      ]
     },
     "execution_count": 25,
     "metadata": {},
     "output_type": "execute_result"
    }
   ],
   "source": [
    "df.guestroom.value_counts()"
   ]
  },
  {
   "cell_type": "code",
   "execution_count": 26,
   "id": "b4d8fed6",
   "metadata": {},
   "outputs": [
    {
     "name": "stdout",
     "output_type": "stream",
     "text": [
      "Categories in Item_Type: ['no' 'yes']\n"
     ]
    }
   ],
   "source": [
    "# check the categories of the variable 'Item_Type' \n",
    "print('Categories in Item_Type:', df.basement.unique())"
   ]
  },
  {
   "cell_type": "code",
   "execution_count": 27,
   "id": "45f384cf",
   "metadata": {},
   "outputs": [
    {
     "data": {
      "text/plain": [
       "no     448\n",
       "yes     97\n",
       "Name: guestroom, dtype: int64"
      ]
     },
     "execution_count": 27,
     "metadata": {},
     "output_type": "execute_result"
    }
   ],
   "source": [
    "df.guestroom.value_counts()"
   ]
  },
  {
   "cell_type": "code",
   "execution_count": 28,
   "id": "ebe14d3e",
   "metadata": {},
   "outputs": [
    {
     "name": "stdout",
     "output_type": "stream",
     "text": [
      "Categories in hotwaterheating: ['no' 'yes']\n"
     ]
    }
   ],
   "source": [
    "# check the categories of the variable 'hotwaterheating' \n",
    "print('Categories in hotwaterheating:', df.hotwaterheating.unique())"
   ]
  },
  {
   "cell_type": "code",
   "execution_count": 29,
   "id": "903ef843",
   "metadata": {},
   "outputs": [
    {
     "data": {
      "text/plain": [
       "no     448\n",
       "yes     97\n",
       "Name: guestroom, dtype: int64"
      ]
     },
     "execution_count": 29,
     "metadata": {},
     "output_type": "execute_result"
    }
   ],
   "source": [
    "df.guestroom.value_counts()"
   ]
  },
  {
   "cell_type": "code",
   "execution_count": 30,
   "id": "0c960e9c",
   "metadata": {},
   "outputs": [
    {
     "name": "stdout",
     "output_type": "stream",
     "text": [
      "Categories in airconditioning: ['yes' 'no']\n"
     ]
    }
   ],
   "source": [
    "# check the categories of the variable 'airconditioning' \n",
    "print('Categories in airconditioning:', df.airconditioning.unique())"
   ]
  },
  {
   "cell_type": "code",
   "execution_count": 31,
   "id": "c1176e9c",
   "metadata": {},
   "outputs": [
    {
     "data": {
      "text/plain": [
       "no     373\n",
       "yes    172\n",
       "Name: airconditioning, dtype: int64"
      ]
     },
     "execution_count": 31,
     "metadata": {},
     "output_type": "execute_result"
    }
   ],
   "source": [
    "df.airconditioning.value_counts()"
   ]
  },
  {
   "cell_type": "code",
   "execution_count": 32,
   "id": "4366a6b8",
   "metadata": {},
   "outputs": [
    {
     "name": "stdout",
     "output_type": "stream",
     "text": [
      "Categories in prefarea: ['yes' 'no']\n"
     ]
    }
   ],
   "source": [
    "# check the categories of the variable 'prefarea' \n",
    "print('Categories in prefarea:', df.prefarea.unique())"
   ]
  },
  {
   "cell_type": "code",
   "execution_count": 33,
   "id": "39399a2d",
   "metadata": {},
   "outputs": [
    {
     "data": {
      "text/plain": [
       "no     417\n",
       "yes    128\n",
       "Name: prefarea, dtype: int64"
      ]
     },
     "execution_count": 33,
     "metadata": {},
     "output_type": "execute_result"
    }
   ],
   "source": [
    "df.prefarea.value_counts()"
   ]
  },
  {
   "cell_type": "code",
   "execution_count": 34,
   "id": "10b5b20c",
   "metadata": {},
   "outputs": [
    {
     "name": "stdout",
     "output_type": "stream",
     "text": [
      "Categories in furnishingstatus: ['furnished' 'semi-furnished' 'unfurnished']\n"
     ]
    }
   ],
   "source": [
    "# check the categories of the variable 'furnishingstatus' \n",
    "print('Categories in furnishingstatus:', df.furnishingstatus.unique())"
   ]
  },
  {
   "cell_type": "code",
   "execution_count": 35,
   "id": "a9bc115a",
   "metadata": {},
   "outputs": [
    {
     "data": {
      "text/plain": [
       "semi-furnished    227\n",
       "unfurnished       178\n",
       "furnished         140\n",
       "Name: furnishingstatus, dtype: int64"
      ]
     },
     "execution_count": 35,
     "metadata": {},
     "output_type": "execute_result"
    }
   ],
   "source": [
    "df.furnishingstatus.value_counts()"
   ]
  },
  {
   "cell_type": "code",
   "execution_count": 36,
   "id": "e85dbf69",
   "metadata": {},
   "outputs": [
    {
     "data": {
      "text/plain": [
       "price        3.498544e+12\n",
       "area         4.709512e+06\n",
       "bedrooms     5.447380e-01\n",
       "bathrooms    2.524760e-01\n",
       "stories      7.525430e-01\n",
       "parking      7.423300e-01\n",
       "dtype: float64"
      ]
     },
     "execution_count": 36,
     "metadata": {},
     "output_type": "execute_result"
    }
   ],
   "source": [
    "# calculate the variance\n",
    "var = df.var(numeric_only=True)\n",
    "\n",
    "# rounding off the values upto 3 decimals\n",
    "round(var, 6)"
   ]
  },
  {
   "cell_type": "markdown",
   "id": "02df3ae9",
   "metadata": {},
   "source": [
    "The variance indicates how much is the data varying from the mean. \n",
    "The output suggests that the variable bathrooms has the least variance and the variable price has the maximum variance."
   ]
  },
  {
   "cell_type": "code",
   "execution_count": 37,
   "id": "c83d08e9",
   "metadata": {},
   "outputs": [
    {
     "data": {
      "text/plain": [
       "price        1.870440e+06\n",
       "area         2.170141e+03\n",
       "bedrooms     7.380639e-01\n",
       "bathrooms    5.024696e-01\n",
       "stories      8.674925e-01\n",
       "parking      8.615858e-01\n",
       "dtype: float64"
      ]
     },
     "execution_count": 37,
     "metadata": {},
     "output_type": "execute_result"
    }
   ],
   "source": [
    "df.std(numeric_only=True)"
   ]
  },
  {
   "cell_type": "markdown",
   "id": "c04a1214",
   "metadata": {},
   "source": [
    "Interpretation: We can see that the variable 'bathrooms' has a standard deviation near to zero. \n",
    "It indicates that there is not much variability. \n",
    "Thus this variable does not add much value to the analysis and can be further removed from the study.\n",
    "However, it is not sensible to compare variation in variables having different units because they vary in their respective units and the means about which they occur."
   ]
  },
  {
   "cell_type": "code",
   "execution_count": 38,
   "id": "aa238bba",
   "metadata": {},
   "outputs": [],
   "source": [
    "# filter the numeric variables from the data\n",
    "df_num = df.select_dtypes(include = np.number)"
   ]
  },
  {
   "cell_type": "code",
   "execution_count": 39,
   "id": "fd98b115",
   "metadata": {},
   "outputs": [],
   "source": [
    "# filter the numeric variables from the data\n",
    "df_cat = df.select_dtypes(exclude = np.number)"
   ]
  },
  {
   "cell_type": "code",
   "execution_count": 40,
   "id": "41540769",
   "metadata": {},
   "outputs": [
    {
     "name": "stdout",
     "output_type": "stream",
     "text": [
      "price        2310000.0\n",
      "area            2760.0\n",
      "bedrooms           1.0\n",
      "bathrooms          1.0\n",
      "stories            1.0\n",
      "parking            1.0\n",
      "dtype: float64\n"
     ]
    }
   ],
   "source": [
    "# find the range\n",
    "print(df_num.quantile(0.75)-df_num.quantile(0.25))"
   ]
  },
  {
   "cell_type": "code",
   "execution_count": 41,
   "id": "29d43ba9",
   "metadata": {},
   "outputs": [
    {
     "data": {
      "image/png": "[encoded data removed]",
      "text/plain": [
       "<Figure size 1500x1000 with 9 Axes>"
      ]
     },
     "metadata": {},
     "output_type": "display_data"
    }
   ],
   "source": [
    "# set plot size\n",
    "plt.rcParams[\"figure.figsize\"] = [15,10]\n",
    "\n",
    "# plot density plot using plot()\n",
    "# kind: set the type of plot\n",
    "# subplots: indicates whether to plot subplot for each variable or a single line plot\n",
    "# layout: specify the arrangement of the subplots\n",
    "# sharex: indicates whether to have the same scale on x-axis of all subplots\n",
    "df.plot(kind = 'density', subplots = True, layout = (3,3), sharex = False)\n",
    "\n",
    "# show plot\n",
    "plt.show()"
   ]
  },
  {
   "cell_type": "code",
   "execution_count": 42,
   "id": "ee053ed7",
   "metadata": {},
   "outputs": [
    {
     "data": {
      "image/png": "[encoded data removed]",
      "text/plain": [
       "<Figure size 1500x1000 with 6 Axes>"
      ]
     },
     "metadata": {},
     "output_type": "display_data"
    }
   ],
   "source": [
    "import seaborn as sns\n",
    "import matplotlib.pyplot as plt\n",
    "\n",
    "# Get a list of categorical variables from the DataFrame\n",
    "categorical_variables = df_cat.columns[1:]\n",
    "\n",
    "# Calculate the number of rows and columns for subplots\n",
    "num_rows = 2\n",
    "num_cols = 3\n",
    "\n",
    "# Create a grid of subplots\n",
    "fig, axes = plt.subplots(num_rows, num_cols, figsize=(15, 10))\n",
    "\n",
    "# Iterate over categorical variables and their corresponding subplots\n",
    "for variable, subplot in zip(categorical_variables, axes.flatten()):\n",
    "    sns.countplot(data=df, x=variable, ax=subplot)\n",
    "    subplot.set_xticklabels(subplot.get_xticklabels(), rotation=45)\n",
    "    subplot.set_xlabel(variable, fontsize=15)\n",
    "\n",
    "plt.tight_layout(pad=4.0)\n",
    "plt.show()"
   ]
  },
  {
   "cell_type": "code",
   "execution_count": 43,
   "id": "bb562985",
   "metadata": {},
   "outputs": [
    {
     "data": {
      "image/png": "[encoded data removed]",
      "text/plain": [
       "<Figure size 1500x1000 with 6 Axes>"
      ]
     },
     "metadata": {},
     "output_type": "display_data"
    }
   ],
   "source": [
    "import seaborn as sns\n",
    "import matplotlib.pyplot as plt\n",
    "\n",
    "# Filter the numeric columns from your DataFrame\n",
    "numeric_columns = df.select_dtypes(include=['int64'])\n",
    "\n",
    "# Create a grid of subplots\n",
    "fig, axes = plt.subplots(2, 3, figsize=(15, 10))\n",
    "\n",
    "# Iterate over the numeric columns and their corresponding subplots\n",
    "for column, subplot in zip(numeric_columns.columns, axes.flatten()):\n",
    "    sns.boxplot(x=df[column], ax=subplot)\n",
    "    subplot.set_xlabel(column, fontsize=15)\n",
    "\n",
    "plt.tight_layout(pad=4.0)\n",
    "plt.show()\n"
   ]
  },
  {
   "cell_type": "raw",
   "id": "b3cb4d3a",
   "metadata": {},
   "source": [
    "Skewness helps us to study the shape of the data.\n",
    "It represents how much a distribution differs from a normal distribution, either to the left or to the right.\n",
    "The value of the skewness can be either positive, negative or zero."
   ]
  },
  {
   "cell_type": "code",
   "execution_count": 44,
   "id": "9b88be8c",
   "metadata": {},
   "outputs": [
    {
     "name": "stdout",
     "output_type": "stream",
     "text": [
      "price        1.212239\n",
      "area         1.321188\n",
      "bedrooms     0.495684\n",
      "bathrooms    1.589264\n",
      "stories      1.082088\n",
      "parking      0.842062\n",
      "dtype: float64\n"
     ]
    }
   ],
   "source": [
    "# use skew() to calculate the skewness\n",
    "skew = df.skew(numeric_only=True)\n",
    "\n",
    "# print the skewness\n",
    "print(skew)"
   ]
  },
  {
   "cell_type": "code",
   "execution_count": 45,
   "id": "38479dc1",
   "metadata": {},
   "outputs": [
    {
     "ename": "SyntaxError",
     "evalue": "invalid syntax (1560233881.py, line 1)",
     "output_type": "error",
     "traceback": [
      "\u001b[0;36m  Cell \u001b[0;32mIn[45], line 1\u001b[0;36m\u001b[0m\n\u001b[0;31m    Interpretation:\u001b[0m\n\u001b[0m                    ^\u001b[0m\n\u001b[0;31mSyntaxError\u001b[0m\u001b[0;31m:\u001b[0m invalid syntax\n"
     ]
    }
   ],
   "source": [
    "Interpretation: \n",
    "\n",
    "The above value represents that the variable bathrooms, area and price are highly positively skewed.\n",
    "\n",
    "The variables bedrooms, parking are near normal.\n",
    "\n",
    "Note: It is advisable to check the distribution plot before making any conclusion."
   ]
  },
  {
   "cell_type": "code",
   "execution_count": null,
   "id": "9b12b258",
   "metadata": {},
   "outputs": [],
   "source": []
  },
  {
   "cell_type": "raw",
   "id": "e68932cb",
   "metadata": {},
   "source": [
    "Kurtosis measures the peakedness of the distribution\n",
    "In other words, kurtosis is a statistical measure that defines how the tails of the distribution differ from the normal distribution\n",
    "Kurtosis identifies whether the tails of a given distribution contain extreme values"
   ]
  },
  {
   "cell_type": "code",
   "execution_count": 46,
   "id": "13ea7172",
   "metadata": {},
   "outputs": [
    {
     "data": {
      "text/plain": [
       "price        1.960130\n",
       "area         2.751480\n",
       "bedrooms     0.728323\n",
       "bathrooms    2.164856\n",
       "stories      0.679404\n",
       "parking     -0.573063\n",
       "dtype: float64"
      ]
     },
     "execution_count": 46,
     "metadata": {},
     "output_type": "execute_result"
    }
   ],
   "source": [
    "# use kurt() to calculate the kurtosis\n",
    "df.kurt(numeric_only=True)"
   ]
  },
  {
   "cell_type": "code",
   "execution_count": 47,
   "id": "342a41f8",
   "metadata": {},
   "outputs": [
    {
     "ename": "SyntaxError",
     "evalue": "invalid syntax (2806667565.py, line 1)",
     "output_type": "error",
     "traceback": [
      "\u001b[0;36m  Cell \u001b[0;32mIn[47], line 1\u001b[0;36m\u001b[0m\n\u001b[0;31m    Interpretation: The above output represents that the variables Item_MRP and Outlet_Establishment_Year are platykurtic.\u001b[0m\n\u001b[0m                        ^\u001b[0m\n\u001b[0;31mSyntaxError\u001b[0m\u001b[0;31m:\u001b[0m invalid syntax\n"
     ]
    }
   ],
   "source": [
    "Interpretation: The above output represents that the variables Item_MRP and Outlet_Establishment_Year are platykurtic.\n",
    "The variables Item_Weight are near normal.\n",
    "The variable Profit is leptokurtic.\n",
    "Note: It is advisable to check the distribution plot before making any conclusion."
   ]
  },
  {
   "cell_type": "code",
   "execution_count": 48,
   "id": "3c73d231",
   "metadata": {},
   "outputs": [
    {
     "data": {
      "image/png": "[encoded data removed]",
      "text/plain": [
       "<Figure size 1500x1000 with 9 Axes>"
      ]
     },
     "metadata": {},
     "output_type": "display_data"
    }
   ],
   "source": [
    "# set plot size\n",
    "plt.rcParams[\"figure.figsize\"] = [15,10]\n",
    "\n",
    "# plot density plot using plot()\n",
    "# kind: set the type of plot\n",
    "# subplots: indicates whether to plot subplot for each variable or a single line plot\n",
    "# layout: specify the arrangement of the subplots\n",
    "# sharex: indicates whether to have the same scale on x-axis of all subplots\n",
    "df.plot(kind = 'density', subplots = True, layout = (3,3), sharex = False)\n",
    "\n",
    "# show plot\n",
    "plt.show()"
   ]
  },
  {
   "cell_type": "code",
   "execution_count": null,
   "id": "e4ddca65",
   "metadata": {},
   "outputs": [],
   "source": []
  },
  {
   "cell_type": "code",
   "execution_count": null,
   "id": "618c42d4",
   "metadata": {},
   "outputs": [],
   "source": []
  },
  {
   "cell_type": "code",
   "execution_count": null,
   "id": "e1442543",
   "metadata": {},
   "outputs": [],
   "source": []
  },
  {
   "cell_type": "code",
   "execution_count": 68,
   "id": "5f22fff6",
   "metadata": {},
   "outputs": [
    {
     "data": {
      "image/png": "[encoded data removed]",
      "text/plain": [
       "<Figure size 2000x1000 with 1 Axes>"
      ]
     },
     "metadata": {},
     "output_type": "display_data"
    }
   ],
   "source": [
    "df['price'].hist(bins=200,rwidth = 0.5,figsize=(20,10))\n",
    "plt.title('House Prices')\n",
    "plt.show()"
   ]
  },
  {
   "cell_type": "code",
   "execution_count": null,
   "id": "33cf6535",
   "metadata": {},
   "outputs": [],
   "source": []
  },
  {
   "cell_type": "code",
   "execution_count": null,
   "id": "3c747003",
   "metadata": {},
   "outputs": [],
   "source": []
  }
 ],
 "metadata": {
  "kernelspec": {
   "display_name": "Python 3 (ipykernel)",
   "language": "python",
   "name": "python3"
  },
  "language_info": {
   "codemirror_mode": {
    "name": "ipython",
    "version": 3
   },
   "file_extension": ".py",
   "mimetype": "text/x-python",
   "name": "python",
   "nbconvert_exporter": "python",
   "pygments_lexer": "ipython3",
   "version": "3.9.13"
  }
 },
 "nbformat": 4,
 "nbformat_minor": 5
}
