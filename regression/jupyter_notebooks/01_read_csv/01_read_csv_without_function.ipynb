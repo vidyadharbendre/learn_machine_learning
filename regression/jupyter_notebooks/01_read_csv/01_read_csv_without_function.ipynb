{
 "cells": [
  {
   "cell_type": "code",
   "execution_count": null,
   "id": "726cb3a8",
   "metadata": {},
   "outputs": [],
   "source": []
  },
  {
   "cell_type": "code",
   "execution_count": null,
   "id": "296d40ee",
   "metadata": {},
   "outputs": [],
   "source": []
  },
  {
   "cell_type": "code",
   "execution_count": 1,
   "id": "400654c9",
   "metadata": {},
   "outputs": [],
   "source": [
    "import os\n",
    "import pandas as pd"
   ]
  },
  {
   "cell_type": "code",
   "execution_count": 6,
   "id": "7864d407",
   "metadata": {},
   "outputs": [
    {
     "name": "stdout",
     "output_type": "stream",
     "text": [
      "/Users/vidyadharbendre/workspace/learn_machine_learning/regression/data\n"
     ]
    }
   ],
   "source": [
    "cd ../data"
   ]
  },
  {
   "cell_type": "code",
   "execution_count": 7,
   "id": "1fa12f6f",
   "metadata": {},
   "outputs": [
    {
     "name": "stdout",
     "output_type": "stream",
     "text": [
      "Fish.csv                  bigmartsales.csv          energy_data.csv\r\n",
      "Housing_columns.csv       car_data.csv              healthinsurance.csv\r\n",
      "IPL_IMB_data.csv          diabetes.csv              houseprice.csv\r\n",
      "Life Expectancy Data.csv  diamond_data.csv          iris.csv\r\n",
      "bigmartsales-cleaned.csv  employee_compensation.csv\r\n"
     ]
    }
   ],
   "source": [
    "!ls"
   ]
  },
  {
   "cell_type": "code",
   "execution_count": 14,
   "id": "12827de0",
   "metadata": {},
   "outputs": [],
   "source": [
    "# Example: Read Titanic dataset\n",
    "employee_compensation_data_path = '../data/employee_compensation.csv'\n",
    "employee_compensation_data = pd.read_csv(employee_compensation_data_path)"
   ]
  },
  {
   "cell_type": "code",
   "execution_count": 15,
   "id": "58a4143b",
   "metadata": {},
   "outputs": [
    {
     "name": "stdout",
     "output_type": "stream",
     "text": [
      "Employee Compensation Dataset:\n",
      "  Year_Type  Year  Employee_Identifier  Salaries  Overtime  Other_Salaries  \\\n",
      "0    Fiscal  2015                42853  92288.22    267.45          267.45   \n",
      "1  Calendar  2015                28248   1466.38    348.23            0.00   \n",
      "2    Fiscal  2014                30651  76536.95  13583.72        10855.94   \n",
      "3    Fiscal  2014                19473  45659.88      0.00         1625.37   \n",
      "4    Fiscal  2013                 7176  41832.00      0.00            0.00   \n",
      "\n",
      "   Total_Salary  Retirement  Health/Dental  Other_Benefits  Total_Benefits  \\\n",
      "0      92823.12    20700.20       12500.56         7605.75        40806.51   \n",
      "1       1814.61        0.00         442.03          141.59          583.62   \n",
      "2     100976.61    18632.19       12464.61         8011.41        39108.21   \n",
      "3      47285.25    10081.20           0.00         3936.63        14017.83   \n",
      "4      41832.00     7617.60        5908.52         3254.50        16780.62   \n",
      "\n",
      "   Total_Compensation  \n",
      "0           133629.63  \n",
      "1             2398.23  \n",
      "2           140084.82  \n",
      "3            61303.08  \n",
      "4            58612.62  \n"
     ]
    }
   ],
   "source": [
    "# Example: Print the first few rows of each dataset\n",
    "print(\"Employee Compensation Dataset:\")\n",
    "print(titanic_data.head())"
   ]
  },
  {
   "cell_type": "code",
   "execution_count": 9,
   "id": "7240d00c",
   "metadata": {},
   "outputs": [],
   "source": [
    "# Example: Read House Prices dataset\n",
    "house_prices_data_path = '../data/houseprice.csv'\n",
    "house_prices_data = pd.read_csv(house_prices_data_path)"
   ]
  },
  {
   "cell_type": "code",
   "execution_count": 10,
   "id": "f14177a8",
   "metadata": {},
   "outputs": [
    {
     "name": "stdout",
     "output_type": "stream",
     "text": [
      "\n",
      "House Prices Dataset:\n",
      "   Id  MSSubClass MSZoning  LotFrontage  LotArea Street Alley LotShape  \\\n",
      "0   1          60       RL         65.0     8450   Pave   NaN      Reg   \n",
      "1   2          20       RL         80.0     9600   Pave   NaN      Reg   \n",
      "2   3          60       RL         68.0    11250   Pave   NaN      IR1   \n",
      "3   4          70       RL         60.0     9550   Pave   NaN      IR1   \n",
      "4   5          60       RL         84.0    14260   Pave   NaN      IR1   \n",
      "\n",
      "  LandContour Utilities  ... PoolArea PoolQC Fence MiscFeature MiscVal MoSold  \\\n",
      "0         Lvl    AllPub  ...        0    NaN   NaN         NaN       0      2   \n",
      "1         Lvl    AllPub  ...        0    NaN   NaN         NaN       0      5   \n",
      "2         Lvl    AllPub  ...        0    NaN   NaN         NaN       0      9   \n",
      "3         Lvl    AllPub  ...        0    NaN   NaN         NaN       0      2   \n",
      "4         Lvl    AllPub  ...        0    NaN   NaN         NaN       0     12   \n",
      "\n",
      "  YrSold  SaleType  SaleCondition  SalePrice  \n",
      "0   2008        WD         Normal     208500  \n",
      "1   2007        WD         Normal     181500  \n",
      "2   2008        WD         Normal     223500  \n",
      "3   2006        WD        Abnorml     140000  \n",
      "4   2008        WD         Normal     250000  \n",
      "\n",
      "[5 rows x 81 columns]\n"
     ]
    }
   ],
   "source": [
    "print(\"\\nHouse Prices Dataset:\")\n",
    "print(house_prices_data.head())"
   ]
  },
  {
   "cell_type": "code",
   "execution_count": 11,
   "id": "57cac72e",
   "metadata": {},
   "outputs": [],
   "source": [
    "# Example: Read Iris Species dataset\n",
    "iris_data_path = '../data/iris.csv'\n",
    "iris_data = pd.read_csv(iris_data_path)"
   ]
  },
  {
   "cell_type": "code",
   "execution_count": 12,
   "id": "fc0c21a8",
   "metadata": {},
   "outputs": [
    {
     "name": "stdout",
     "output_type": "stream",
     "text": [
      "\n",
      "Iris Dataset:\n",
      "   sepal length  sepal width  petal length  petal width   class\n",
      "0           5.1          3.5           1.4          0.2  setosa\n",
      "1           4.9          3.0           1.4          0.2  setosa\n",
      "2           4.7          3.2           1.3          0.2  setosa\n",
      "3           4.6          3.1           1.5          0.2  setosa\n",
      "4           5.0          3.6           1.4          0.2  setosa\n"
     ]
    }
   ],
   "source": [
    "print(\"\\nIris Dataset:\")\n",
    "print(iris_data.head())"
   ]
  }
 ],
 "metadata": {
  "kernelspec": {
   "display_name": "Python 3 (ipykernel)",
   "language": "python",
   "name": "python3"
  },
  "language_info": {
   "codemirror_mode": {
    "name": "ipython",
    "version": 3
   },
   "file_extension": ".py",
   "mimetype": "text/x-python",
   "name": "python",
   "nbconvert_exporter": "python",
   "pygments_lexer": "ipython3",
   "version": "3.9.16"
  }
 },
 "nbformat": 4,
 "nbformat_minor": 5
}
