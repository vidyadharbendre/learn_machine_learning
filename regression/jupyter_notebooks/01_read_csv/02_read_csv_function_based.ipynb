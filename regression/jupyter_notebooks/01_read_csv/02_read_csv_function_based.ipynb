{
 "cells": [
  {
   "cell_type": "code",
   "execution_count": 1,
   "id": "053a43f4",
   "metadata": {},
   "outputs": [],
   "source": [
    "import os\n",
    "import pandas as pd"
   ]
  },
  {
   "cell_type": "code",
   "execution_count": 2,
   "id": "c3de6c97",
   "metadata": {},
   "outputs": [],
   "source": [
    "# Function to get file path\n",
    "def get_file_path(file_name):\n",
    "    current_dir = os.getcwd()\n",
    "    data_folder = '../data'\n",
    "    file_path = os.path.join(current_dir, data_folder, file_name)\n",
    "    return file_path"
   ]
  },
  {
   "cell_type": "code",
   "execution_count": 3,
   "id": "f9cf7c7b",
   "metadata": {},
   "outputs": [],
   "source": [
    "# Example: Read Iris Species dataset\n",
    "iris_data_path = get_file_path('iris.csv')\n",
    "iris_data = pd.read_csv(iris_data_path)"
   ]
  },
  {
   "cell_type": "code",
   "execution_count": 4,
   "id": "b67d1cc1",
   "metadata": {},
   "outputs": [
    {
     "name": "stdout",
     "output_type": "stream",
     "text": [
      "\n",
      "Iris Dataset:\n",
      "   sepal length  sepal width  petal length  petal width   class\n",
      "0           5.1          3.5           1.4          0.2  setosa\n",
      "1           4.9          3.0           1.4          0.2  setosa\n",
      "2           4.7          3.2           1.3          0.2  setosa\n",
      "3           4.6          3.1           1.5          0.2  setosa\n",
      "4           5.0          3.6           1.4          0.2  setosa\n"
     ]
    }
   ],
   "source": [
    "print(\"\\nIris Dataset:\")\n",
    "print(iris_data.head())"
   ]
  }
 ],
 "metadata": {
  "kernelspec": {
   "display_name": "Python 3 (ipykernel)",
   "language": "python",
   "name": "python3"
  },
  "language_info": {
   "codemirror_mode": {
    "name": "ipython",
    "version": 3
   },
   "file_extension": ".py",
   "mimetype": "text/x-python",
   "name": "python",
   "nbconvert_exporter": "python",
   "pygments_lexer": "ipython3",
   "version": "3.9.16"
  }
 },
 "nbformat": 4,
 "nbformat_minor": 5
}
