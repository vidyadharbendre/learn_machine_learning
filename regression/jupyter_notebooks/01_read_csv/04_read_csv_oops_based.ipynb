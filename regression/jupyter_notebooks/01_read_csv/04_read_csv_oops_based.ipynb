{
 "cells": [
  {
   "cell_type": "code",
   "execution_count": null,
   "id": "328cccce",
   "metadata": {},
   "outputs": [],
   "source": []
  },
  {
   "cell_type": "code",
   "execution_count": null,
   "id": "ecab2b2f",
   "metadata": {},
   "outputs": [],
   "source": []
  },
  {
   "cell_type": "code",
   "execution_count": 3,
   "id": "84497aa8",
   "metadata": {},
   "outputs": [],
   "source": [
    "import os\n",
    "import pandas as pd"
   ]
  },
  {
   "cell_type": "code",
   "execution_count": 4,
   "id": "2f3fbd3d",
   "metadata": {},
   "outputs": [],
   "source": [
    "class DatasetReader:\n",
    "    def __init__(self, data_folder):\n",
    "        self.data_folder = data_folder\n",
    "    \n",
    "    def get_file_path(self, file_name):\n",
    "        current_dir = os.getcwd()\n",
    "        file_path = os.path.join(current_dir, self.data_folder, file_name)\n",
    "        return file_path\n",
    "    \n",
    "    def read_dataset(self, file_name):\n",
    "        file_path = self.get_file_path(file_name)\n",
    "        return pd.read_csv(file_path)"
   ]
  },
  {
   "cell_type": "code",
   "execution_count": 5,
   "id": "1c2ed8e7",
   "metadata": {},
   "outputs": [
    {
     "name": "stdout",
     "output_type": "stream",
     "text": [
      "\n",
      "Iris Dataset:\n",
      "   sepal length  sepal width  petal length  petal width   class\n",
      "0           5.1          3.5           1.4          0.2  setosa\n",
      "1           4.9          3.0           1.4          0.2  setosa\n",
      "2           4.7          3.2           1.3          0.2  setosa\n",
      "3           4.6          3.1           1.5          0.2  setosa\n",
      "4           5.0          3.6           1.4          0.2  setosa\n"
     ]
    }
   ],
   "source": [
    "if __name__ == \"__main__\":\n",
    "    # Initialize DatasetReader with 'data' folder\n",
    "    data_reader = DatasetReader('../data')\n",
    "\n",
    "    # Example: Read Iris Species dataset\n",
    "    iris_data = data_reader.read_dataset('iris.csv')\n",
    "\n",
    "    print(\"\\nIris Dataset:\")\n",
    "    print(iris_data.head())\n"
   ]
  },
  {
   "cell_type": "code",
   "execution_count": null,
   "id": "4b4d77d8",
   "metadata": {},
   "outputs": [],
   "source": []
  }
 ],
 "metadata": {
  "kernelspec": {
   "display_name": "Python 3 (ipykernel)",
   "language": "python",
   "name": "python3"
  },
  "language_info": {
   "codemirror_mode": {
    "name": "ipython",
    "version": 3
   },
   "file_extension": ".py",
   "mimetype": "text/x-python",
   "name": "python",
   "nbconvert_exporter": "python",
   "pygments_lexer": "ipython3",
   "version": "3.9.16"
  }
 },
 "nbformat": 4,
 "nbformat_minor": 5
}
