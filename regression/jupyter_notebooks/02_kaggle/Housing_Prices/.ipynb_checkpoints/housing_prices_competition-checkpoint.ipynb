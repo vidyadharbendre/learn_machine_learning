{
 "cells": [
  {
   "cell_type": "markdown",
   "id": "d8f5acc1-0aba-4561-bb1e-69345335dfa1",
   "metadata": {},
   "source": [
    "https://www.kaggle.com/c/home-data-for-ml-course"
   ]
  },
  {
   "cell_type": "code",
   "execution_count": null,
   "id": "7cd28762-1a55-41a5-8edd-959a030d9d0a",
   "metadata": {},
   "outputs": [],
   "source": []
  }
 ],
 "metadata": {
  "kernelspec": {
   "display_name": "Python 3 (ipykernel)",
   "language": "python",
   "name": "python3"
  },
  "language_info": {
   "codemirror_mode": {
    "name": "ipython",
    "version": 3
   },
   "file_extension": ".py",
   "mimetype": "text/x-python",
   "name": "python",
   "nbconvert_exporter": "python",
   "pygments_lexer": "ipython3",
   "version": "3.9.19"
  }
 },
 "nbformat": 4,
 "nbformat_minor": 5
}
