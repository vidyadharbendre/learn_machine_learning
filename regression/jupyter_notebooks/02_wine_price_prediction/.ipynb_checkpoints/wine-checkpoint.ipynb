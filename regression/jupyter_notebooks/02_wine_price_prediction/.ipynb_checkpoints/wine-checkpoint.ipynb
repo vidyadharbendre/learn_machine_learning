{
 "cells": [
  {
   "cell_type": "code",
   "execution_count": null,
   "id": "5b0e59d8",
   "metadata": {},
   "outputs": [],
   "source": []
  },
  {
   "cell_type": "code",
   "execution_count": null,
   "id": "9f0f81da",
   "metadata": {},
   "outputs": [],
   "source": []
  },
  {
   "cell_type": "markdown",
   "id": "96c39778",
   "metadata": {},
   "source": [
    "https://www.kaggle.com/code/ayessa/wine-price-regression/notebook"
   ]
  },
  {
   "cell_type": "markdown",
   "id": "3c835863",
   "metadata": {},
   "source": [
    "https://medium.com/@scottokinawa/exploratory-data-analysis-eda-with-pandas-684fa3262860"
   ]
  },
  {
   "cell_type": "markdown",
   "id": "5dbaa0cb",
   "metadata": {},
   "source": [
    "https://www.kaggle.com/code/gsg094/wine-dataset/notebook"
   ]
  },
  {
   "cell_type": "code",
   "execution_count": 2,
   "id": "60b5ce9c",
   "metadata": {},
   "outputs": [],
   "source": [
    "#vivno_dataset"
   ]
  },
  {
   "cell_type": "markdown",
   "id": "08849b2f",
   "metadata": {},
   "source": [
    "https://www.dataquest.io/blog/free-datasets-for-projects/"
   ]
  },
  {
   "cell_type": "code",
   "execution_count": 3,
   "id": "fc5fafd4",
   "metadata": {},
   "outputs": [],
   "source": [
    "#https://medium.com/nerd-for-tech/how-to-deploy-streamlit-dashboard-with-heroku-ca00064402e8"
   ]
  },
  {
   "cell_type": "code",
   "execution_count": 4,
   "id": "33dad167",
   "metadata": {},
   "outputs": [],
   "source": [
    "# end2end \n",
    "#https://medium.com/@ramazanolmeez/end-to-end-machine-learning-project-churn-prediction-e9c4d0322ac9"
   ]
  },
  {
   "cell_type": "code",
   "execution_count": 5,
   "id": "295e17e0",
   "metadata": {},
   "outputs": [],
   "source": [
    "# Detailed Explaination\n",
    "# https://www.kaggle.com/code/gaganmaahi224/eda-detailed-explanation-of-linear-regression"
   ]
  },
  {
   "cell_type": "code",
   "execution_count": 6,
   "id": "99610d70",
   "metadata": {},
   "outputs": [],
   "source": [
    "#vivno_dataset\n",
    "#https://www.kaggle.com/code/gsg094/wine-dataset/input"
   ]
  },
  {
   "cell_type": "code",
   "execution_count": 7,
   "id": "73551332",
   "metadata": {},
   "outputs": [],
   "source": [
    "#https://www.kaggle.com/code/sadikaljarif/beer-consumption-forecasting-with-machine-learning"
   ]
  },
  {
   "cell_type": "code",
   "execution_count": null,
   "id": "ec70cea3",
   "metadata": {},
   "outputs": [],
   "source": []
  }
 ],
 "metadata": {
  "kernelspec": {
   "display_name": "Python 3 (ipykernel)",
   "language": "python",
   "name": "python3"
  },
  "language_info": {
   "codemirror_mode": {
    "name": "ipython",
    "version": 3
   },
   "file_extension": ".py",
   "mimetype": "text/x-python",
   "name": "python",
   "nbconvert_exporter": "python",
   "pygments_lexer": "ipython3",
   "version": "3.9.16"
  }
 },
 "nbformat": 4,
 "nbformat_minor": 5
}
