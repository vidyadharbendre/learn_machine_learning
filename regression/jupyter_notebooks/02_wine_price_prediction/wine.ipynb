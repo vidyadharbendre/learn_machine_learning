{
 "cells": [
  {
   "cell_type": "code",
   "execution_count": null,
   "id": "041bd0b6",
   "metadata": {},
   "outputs": [],
   "source": []
  },
  {
   "cell_type": "code",
   "execution_count": null,
   "id": "7d2b0c27",
   "metadata": {},
   "outputs": [],
   "source": []
  },
  {
   "cell_type": "markdown",
   "id": "1c6a8241",
   "metadata": {},
   "source": [
    "https://www.kaggle.com/code/ayessa/wine-price-regression/notebook"
   ]
  },
  {
   "cell_type": "markdown",
   "id": "063405cb",
   "metadata": {},
   "source": [
    "https://medium.com/@scottokinawa/exploratory-data-analysis-eda-with-pandas-684fa3262860"
   ]
  },
  {
   "cell_type": "markdown",
   "id": "491c8660",
   "metadata": {},
   "source": [
    "https://www.kaggle.com/code/gsg094/wine-dataset/notebook"
   ]
  },
  {
   "cell_type": "code",
   "execution_count": 2,
   "id": "3f8daae6",
   "metadata": {},
   "outputs": [],
   "source": [
    "#vivno_dataset"
   ]
  },
  {
   "cell_type": "markdown",
   "id": "5115f920",
   "metadata": {},
   "source": [
    "https://www.dataquest.io/blog/free-datasets-for-projects/"
   ]
  },
  {
   "cell_type": "code",
   "execution_count": 3,
   "id": "fa4dae7c",
   "metadata": {},
   "outputs": [],
   "source": [
    "#https://medium.com/nerd-for-tech/how-to-deploy-streamlit-dashboard-with-heroku-ca00064402e8"
   ]
  },
  {
   "cell_type": "code",
   "execution_count": 4,
   "id": "c6b79877",
   "metadata": {},
   "outputs": [],
   "source": [
    "# end2end \n",
    "#https://medium.com/@ramazanolmeez/end-to-end-machine-learning-project-churn-prediction-e9c4d0322ac9"
   ]
  },
  {
   "cell_type": "code",
   "execution_count": 5,
   "id": "113ec9df",
   "metadata": {},
   "outputs": [],
   "source": [
    "# Detailed Explaination\n",
    "# https://www.kaggle.com/code/gaganmaahi224/eda-detailed-explanation-of-linear-regression"
   ]
  },
  {
   "cell_type": "code",
   "execution_count": 6,
   "id": "73821abd",
   "metadata": {},
   "outputs": [],
   "source": [
    "#vivno_dataset\n",
    "#https://www.kaggle.com/code/gsg094/wine-dataset/input"
   ]
  },
  {
   "cell_type": "code",
   "execution_count": 7,
   "id": "e03a54ce",
   "metadata": {},
   "outputs": [],
   "source": [
    "#https://www.kaggle.com/code/sadikaljarif/beer-consumption-forecasting-with-machine-learning"
   ]
  },
  {
   "cell_type": "code",
   "execution_count": null,
   "id": "de0265dc",
   "metadata": {},
   "outputs": [],
   "source": []
  }
 ],
 "metadata": {
  "kernelspec": {
   "display_name": "Python 3 (ipykernel)",
   "language": "python",
   "name": "python3"
  },
  "language_info": {
   "codemirror_mode": {
    "name": "ipython",
    "version": 3
   },
   "file_extension": ".py",
   "mimetype": "text/x-python",
   "name": "python",
   "nbconvert_exporter": "python",
   "pygments_lexer": "ipython3",
   "version": "3.9.16"
  }
 },
 "nbformat": 4,
 "nbformat_minor": 5
}
