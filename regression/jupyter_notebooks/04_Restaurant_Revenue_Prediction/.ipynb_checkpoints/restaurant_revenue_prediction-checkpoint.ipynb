{
 "cells": [
  {
   "cell_type": "markdown",
   "id": "8bff182a-e8a4-4fa7-8420-052b0026426f",
   "metadata": {},
   "source": [
    "https://www.kaggle.com/competitions/restaurant-revenue-prediction/data"
   ]
  }
 ],
 "metadata": {
  "kernelspec": {
   "display_name": "Python 3 (ipykernel)",
   "language": "python",
   "name": "python3"
  },
  "language_info": {
   "codemirror_mode": {
    "name": "ipython",
    "version": 3
   },
   "file_extension": ".py",
   "mimetype": "text/x-python",
   "name": "python",
   "nbconvert_exporter": "python",
   "pygments_lexer": "ipython3",
   "version": "3.9.19"
  }
 },
 "nbformat": 4,
 "nbformat_minor": 5
}
