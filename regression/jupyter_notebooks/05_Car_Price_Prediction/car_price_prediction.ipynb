{
 "cells": [
  {
   "cell_type": "markdown",
   "id": "045a6dec-d023-49c9-ba05-b014285fe0c2",
   "metadata": {},
   "source": [
    "https://www.kaggle.com/competitions/restaurant-revenue-prediction/data"
   ]
  },
  {
   "cell_type": "code",
   "execution_count": null,
   "id": "02d158af-b63e-4d9c-842a-75781bb0c03b",
   "metadata": {},
   "outputs": [],
   "source": []
  }
 ],
 "metadata": {
  "kernelspec": {
   "display_name": "Python 3 (ipykernel)",
   "language": "python",
   "name": "python3"
  },
  "language_info": {
   "codemirror_mode": {
    "name": "ipython",
    "version": 3
   },
   "file_extension": ".py",
   "mimetype": "text/x-python",
   "name": "python",
   "nbconvert_exporter": "python",
   "pygments_lexer": "ipython3",
   "version": "3.9.19"
  }
 },
 "nbformat": 4,
 "nbformat_minor": 5
}
